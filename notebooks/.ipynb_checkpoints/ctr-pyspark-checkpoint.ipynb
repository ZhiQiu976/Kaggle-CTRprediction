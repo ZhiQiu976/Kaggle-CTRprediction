{
 "cells": [
  {
   "cell_type": "code",
   "execution_count": 4,
   "metadata": {
    "_cell_guid": "b1076dfc-b9ad-4769-8c92-a6c4dae69d19",
    "_uuid": "8f2839f25d086af736a60e9eeb907d3b93b6e0e5"
   },
   "outputs": [
    {
     "name": "stdout",
     "output_type": "stream",
     "text": [
      "/kaggle/input/criteo-dataset/dac/test.txt\n",
      "/kaggle/input/criteo-dataset/dac/readme.txt\n",
      "/kaggle/input/criteo-dataset/dac/train.txt\n"
     ]
    }
   ],
   "source": [
    "# This Python 3 environment comes with many helpful analytics libraries installed\n",
    "# It is defined by the kaggle/python Docker image: https://github.com/kaggle/docker-python\n",
    "# For example, here's several helpful packages to load\n",
    "\n",
    "import numpy as np # linear algebra\n",
    "import pandas as pd # data processing, CSV file I/O (e.g. pd.read_csv)\n",
    "\n",
    "# Input data files are available in the read-only \"../input/\" directory\n",
    "# For example, running this (by clicking run or pressing Shift+Enter) will list all files under the input directory\n",
    "\n",
    "import os\n",
    "for dirname, _, filenames in os.walk('/kaggle/input'):\n",
    "    for filename in filenames:\n",
    "        print(os.path.join(dirname, filename))\n",
    "\n",
    "# You can write up to 20GB to the current directory (/kaggle/working/) that gets preserved as output when you create a version using \"Save & Run All\" \n",
    "# You can also write temporary files to /kaggle/temp/, but they won't be saved outside of the current session"
   ]
  },
  {
   "cell_type": "code",
   "execution_count": 5,
   "metadata": {},
   "outputs": [],
   "source": [
    "#!pip install pyspark"
   ]
  },
  {
   "cell_type": "code",
   "execution_count": 6,
   "metadata": {},
   "outputs": [],
   "source": [
    "import dask.dataframe as dd\n",
    "import gc\n",
    "\n",
    "from pyspark import SparkContext\n",
    "from pyspark.sql import SparkSession\n",
    "import pyspark.sql.types as T\n",
    "import pyspark.sql.functions as F\n",
    "\n",
    "import time"
   ]
  },
  {
   "cell_type": "code",
   "execution_count": 7,
   "metadata": {},
   "outputs": [],
   "source": [
    "#gc.collect()"
   ]
  },
  {
   "cell_type": "code",
   "execution_count": 8,
   "metadata": {},
   "outputs": [],
   "source": [
    "# sc = SparkContext.getOrCreate()\n",
    "# sc.version, sc.defaultParallelism, sc.defaultMinPartitions"
   ]
  },
  {
   "cell_type": "code",
   "execution_count": 9,
   "metadata": {},
   "outputs": [
    {
     "name": "stdout",
     "output_type": "stream",
     "text": [
      "CPU times: user 69.3 ms, sys: 24.4 ms, total: 93.6 ms\n",
      "Wall time: 2min 19s\n"
     ]
    }
   ],
   "source": [
    "%%time\n",
    "\n",
    "spark = (\n",
    "    SparkSession.builder\n",
    "    .appName(\"ctr_data\") # .config(\"spark.executor.cores\", 4)\n",
    "    .getOrCreate()\n",
    ")\n",
    "\n",
    "df_original_test = spark.read.csv(\"/kaggle/input/criteo-dataset/dac/test.txt\",\n",
    "                              inferSchema=True)\n",
    "df_original_train = spark.read.csv(\"/kaggle/input/criteo-dataset/dac/train.txt\",\n",
    "                              inferSchema=True)\n",
    "\n",
    "#df_original_test.printSchema()"
   ]
  },
  {
   "cell_type": "code",
   "execution_count": 10,
   "metadata": {},
   "outputs": [
    {
     "name": "stdout",
     "output_type": "stream",
     "text": [
      "CPU times: user 30.4 ms, sys: 7.82 ms, total: 38.3 ms\n",
      "Wall time: 381 ms\n"
     ]
    }
   ],
   "source": [
    "%%time\n",
    "\n",
    "split_col = F.split(df_original_test['_c0'], '\\t')\n",
    "\n",
    "# df.withColumn too slow\n",
    "# to be considered: any better way of writing this ...\n",
    "df_testing_temp = df_original_test.select(\n",
    "    split_col.getItem(0).alias('I1'),\n",
    "    split_col.getItem(1).alias('I2'),\n",
    "    split_col.getItem(2).alias('I3'),\n",
    "    split_col.getItem(3).alias('I4'),\n",
    "    split_col.getItem(4).alias('I5'),\n",
    "    split_col.getItem(5).alias('I6'),\n",
    "    split_col.getItem(6).alias('I7'),\n",
    "    split_col.getItem(7).alias('I8'),\n",
    "    split_col.getItem(8).alias('I9'),\n",
    "    split_col.getItem(9).alias('I10'),\n",
    "    split_col.getItem(10).alias('I11'),\n",
    "    split_col.getItem(11).alias('I12'),\n",
    "    split_col.getItem(12).alias('I13'),\n",
    "    split_col.getItem(13).alias('C1'),\n",
    "    split_col.getItem(14).alias('C2'),\n",
    "    split_col.getItem(15).alias('C3'),\n",
    "    split_col.getItem(16).alias('C4'),\n",
    "    split_col.getItem(17).alias('C5'),\n",
    "    split_col.getItem(18).alias('C6'),\n",
    "    split_col.getItem(19).alias('C7'),\n",
    "    split_col.getItem(20).alias('C8'),\n",
    "    split_col.getItem(21).alias('C9'),\n",
    "    split_col.getItem(22).alias('C10'),\n",
    "    split_col.getItem(23).alias('C11'),\n",
    "    split_col.getItem(24).alias('C12'),\n",
    "    split_col.getItem(25).alias('C13'),\n",
    "    split_col.getItem(26).alias('C14'),\n",
    "    split_col.getItem(27).alias('C15'),\n",
    "    split_col.getItem(28).alias('C16'),\n",
    "    split_col.getItem(29).alias('C17'),\n",
    "    split_col.getItem(30).alias('C18'),\n",
    "    split_col.getItem(31).alias('C19'),\n",
    "    split_col.getItem(32).alias('C20'),\n",
    "    split_col.getItem(33).alias('C21'),\n",
    "    split_col.getItem(34).alias('C22'),\n",
    "    split_col.getItem(35).alias('C23'),\n",
    "    split_col.getItem(36).alias('C24'),\n",
    "    split_col.getItem(37).alias('C25'),\n",
    "    split_col.getItem(38).alias('C26'),\n",
    ")"
   ]
  },
  {
   "cell_type": "code",
   "execution_count": 11,
   "metadata": {},
   "outputs": [
    {
     "data": {
      "text/plain": [
       "[Row(I1='', I2='29', I3='50', I4='5', I5='7260', I6='437', I7='1', I8='4', I9='14', I10='', I11='1', I12='0', I13='6', C1='5a9ed9b0', C2='a0e12995', C3='a1e14474', C4='08a40877', C5='25c83c98', C6='', C7='964d1fdd', C8='5b392875', C9='a73ee510', C10='de89c3d2', C11='59cd5ae7', C12='8d98db20', C13='8b216f7b', C14='1adce6ef', C15='78c64a1d', C16='3ecdadf7', C17='3486227d', C18='1616f155', C19='21ddcdc9', C20='5840adea', C21='2c277e62', C22='', C23='423fab69', C24='54c91918', C25='9b3e8820', C26='e75c9ae9'),\n",
       " Row(I1='27', I2='17', I3='45', I4='28', I5='2', I6='28', I7='27', I8='29', I9='28', I10='1', I11='1', I12='', I13='23', C1='68fd1e64', C2='960c983b', C3='9fbfbfd5', C4='38c11726', C5='25c83c98', C6='7e0ccccf', C7='fe06fd10', C8='062b5529', C9='a73ee510', C10='ca53fc84', C11='67360210', C12='895d8bbb', C13='4f8e2224', C14='f862f261', C15='b4cc2435', C16='4c0041e5', C17='e5ba7672', C18='b4abdd09', C19='21ddcdc9', C20='5840adea', C21='36a7ab86', C22='', C23='32c7478e', C24='85e4d73f', C25='010f6491', C26='ee63dd9b'),\n",
       " Row(I1='1', I2='1', I3='19', I4='7', I5='1', I6='3', I7='1', I8='7', I9='7', I10='1', I11='1', I12='', I13='2', C1='09ca0b81', C2='8947f767', C3='a87e61f7', C4='c4ba2a67', C5='25c83c98', C6='7e0ccccf', C7='ce6020cc', C8='062b5529', C9='a73ee510', C10='b04d3cfe', C11='70dcd184', C12='899eb56b', C13='aca22cf9', C14='b28479f6', C15='a473257f', C16='88f592e4', C17='d4bb7bd8', C18='bd17c3da', C19='1d04f4a4', C20='a458ea53', C21='82bdc0bb', C22='', C23='32c7478e', C24='5bdcd9c4', C25='010f6491', C26='cca57dcc')]"
      ]
     },
     "execution_count": 11,
     "metadata": {},
     "output_type": "execute_result"
    }
   ],
   "source": [
    "df_testing_temp.head(3)"
   ]
  },
  {
   "cell_type": "code",
   "execution_count": 12,
   "metadata": {},
   "outputs": [
    {
     "name": "stdout",
     "output_type": "stream",
     "text": [
      "CPU times: user 6.88 ms, sys: 3.87 ms, total: 10.7 ms\n",
      "Wall time: 369 ms\n"
     ]
    }
   ],
   "source": [
    "%%time\n",
    "\n",
    "query_change_test_col = [\"cast(I\"+str(i)+\" as int) I\"+str(i) for i in range(1, 14)] \\\n",
    "+ ['C'+str(i) for i in range(1,27)]\n",
    "\n",
    "# change variable type\n",
    "df_testing = df_testing_temp.selectExpr(\n",
    "    query_change_test_col\n",
    ")\n",
    "\n",
    "# # this method doesn't work, needs improving ...\n",
    "# schema_testing = T.StructType([\n",
    "#     T.StructField('I1', T.IntegerType()),\n",
    "#     ...\n",
    "#     T.StructField('C1', T.StringType()),\n",
    "#     ...\n",
    "# ])\n",
    "\n",
    "# df_testing = spark.createDataFrame(df_testing_temp.rdd,\n",
    "#                                    schema_testing)"
   ]
  },
  {
   "cell_type": "code",
   "execution_count": 13,
   "metadata": {},
   "outputs": [
    {
     "name": "stdout",
     "output_type": "stream",
     "text": [
      "root\n",
      " |-- I1: integer (nullable = true)\n",
      " |-- I2: integer (nullable = true)\n",
      " |-- I3: integer (nullable = true)\n",
      " |-- I4: integer (nullable = true)\n",
      " |-- I5: integer (nullable = true)\n",
      " |-- I6: integer (nullable = true)\n",
      " |-- I7: integer (nullable = true)\n",
      " |-- I8: integer (nullable = true)\n",
      " |-- I9: integer (nullable = true)\n",
      " |-- I10: integer (nullable = true)\n",
      " |-- I11: integer (nullable = true)\n",
      " |-- I12: integer (nullable = true)\n",
      " |-- I13: integer (nullable = true)\n",
      " |-- C1: string (nullable = true)\n",
      " |-- C2: string (nullable = true)\n",
      " |-- C3: string (nullable = true)\n",
      " |-- C4: string (nullable = true)\n",
      " |-- C5: string (nullable = true)\n",
      " |-- C6: string (nullable = true)\n",
      " |-- C7: string (nullable = true)\n",
      " |-- C8: string (nullable = true)\n",
      " |-- C9: string (nullable = true)\n",
      " |-- C10: string (nullable = true)\n",
      " |-- C11: string (nullable = true)\n",
      " |-- C12: string (nullable = true)\n",
      " |-- C13: string (nullable = true)\n",
      " |-- C14: string (nullable = true)\n",
      " |-- C15: string (nullable = true)\n",
      " |-- C16: string (nullable = true)\n",
      " |-- C17: string (nullable = true)\n",
      " |-- C18: string (nullable = true)\n",
      " |-- C19: string (nullable = true)\n",
      " |-- C20: string (nullable = true)\n",
      " |-- C21: string (nullable = true)\n",
      " |-- C22: string (nullable = true)\n",
      " |-- C23: string (nullable = true)\n",
      " |-- C24: string (nullable = true)\n",
      " |-- C25: string (nullable = true)\n",
      " |-- C26: string (nullable = true)\n",
      "\n"
     ]
    }
   ],
   "source": [
    "df_testing.printSchema()"
   ]
  },
  {
   "cell_type": "code",
   "execution_count": 14,
   "metadata": {},
   "outputs": [
    {
     "name": "stdout",
     "output_type": "stream",
     "text": [
      "+----+---+---+---+----+---+---+---+---+----+---+----+---+--------+--------+--------+--------+--------+--------+--------+--------+--------+--------+--------+--------+--------+--------+--------+--------+--------+--------+--------+--------+--------+---+--------+--------+--------+--------+\n",
      "|  I1| I2| I3| I4|  I5| I6| I7| I8| I9| I10|I11| I12|I13|      C1|      C2|      C3|      C4|      C5|      C6|      C7|      C8|      C9|     C10|     C11|     C12|     C13|     C14|     C15|     C16|     C17|     C18|     C19|     C20|     C21|C22|     C23|     C24|     C25|     C26|\n",
      "+----+---+---+---+----+---+---+---+---+----+---+----+---+--------+--------+--------+--------+--------+--------+--------+--------+--------+--------+--------+--------+--------+--------+--------+--------+--------+--------+--------+--------+--------+---+--------+--------+--------+--------+\n",
      "|null| 29| 50|  5|7260|437|  1|  4| 14|null|  1|   0|  6|5a9ed9b0|a0e12995|a1e14474|08a40877|25c83c98|        |964d1fdd|5b392875|a73ee510|de89c3d2|59cd5ae7|8d98db20|8b216f7b|1adce6ef|78c64a1d|3ecdadf7|3486227d|1616f155|21ddcdc9|5840adea|2c277e62|   |423fab69|54c91918|9b3e8820|e75c9ae9|\n",
      "|  27| 17| 45| 28|   2| 28| 27| 29| 28|   1|  1|null| 23|68fd1e64|960c983b|9fbfbfd5|38c11726|25c83c98|7e0ccccf|fe06fd10|062b5529|a73ee510|ca53fc84|67360210|895d8bbb|4f8e2224|f862f261|b4cc2435|4c0041e5|e5ba7672|b4abdd09|21ddcdc9|5840adea|36a7ab86|   |32c7478e|85e4d73f|010f6491|ee63dd9b|\n",
      "|   1|  1| 19|  7|   1|  3|  1|  7|  7|   1|  1|null|  2|09ca0b81|8947f767|a87e61f7|c4ba2a67|25c83c98|7e0ccccf|ce6020cc|062b5529|a73ee510|b04d3cfe|70dcd184|899eb56b|aca22cf9|b28479f6|a473257f|88f592e4|d4bb7bd8|bd17c3da|1d04f4a4|a458ea53|82bdc0bb|   |32c7478e|5bdcd9c4|010f6491|cca57dcc|\n",
      "+----+---+---+---+----+---+---+---+---+----+---+----+---+--------+--------+--------+--------+--------+--------+--------+--------+--------+--------+--------+--------+--------+--------+--------+--------+--------+--------+--------+--------+--------+---+--------+--------+--------+--------+\n",
      "only showing top 3 rows\n",
      "\n"
     ]
    }
   ],
   "source": [
    "df_testing.show(3)"
   ]
  },
  {
   "cell_type": "code",
   "execution_count": 15,
   "metadata": {},
   "outputs": [],
   "source": [
    "# # no use, too slow (not attempted yet)\n",
    "\n",
    "# def read_in_testing(path):\n",
    "#     '''Read in testing data from txt file path. Return two ndarrays \n",
    "#     (one for numerical features, one for categorical features).\n",
    "    \n",
    "#     Features:\n",
    "#     I1-I13 - A total of 13 columns of integer features (mostly count features).\n",
    "#     C1-C26 - A total of 26 columns of categorical features (32 bits).'''\n",
    "    \n",
    "#     testing_num = []\n",
    "#     testing_cat = []\n",
    "    \n",
    "#     with open(path) as f:\n",
    "#         lines = f.readlines()\n",
    "#         for line in lines:\n",
    "#             line_data=line.strip().split('\\t') \n",
    "#             num_features = list(map(int, line_data[:13])) # save as int type\n",
    "#             cat_features = line_data[13:]\n",
    "#             testing_num.append(num_features)\n",
    "#             testing_cat.append(cat_features)\n",
    "        \n",
    "#     return np.array(testing_num), np.array(testing_cat)\n",
    "\n",
    "# df_test = read_in_testing('/kaggle/input/criteo-dataset/dac/test.txt')"
   ]
  },
  {
   "cell_type": "code",
   "execution_count": 16,
   "metadata": {},
   "outputs": [
    {
     "name": "stdout",
     "output_type": "stream",
     "text": [
      "CPU times: user 26.6 ms, sys: 9.85 ms, total: 36.4 ms\n",
      "Wall time: 281 ms\n"
     ]
    }
   ],
   "source": [
    "%%time\n",
    "\n",
    "split_col = F.split(df_original_train['_c0'], '\\t')\n",
    "\n",
    "# df.withColumn too slow\n",
    "# to be considered: any better way of writing this ...\n",
    "df_training_temp = df_original_train.select(\n",
    "    split_col.getItem(0).alias('Label'),\n",
    "    split_col.getItem(1).alias('I1'),\n",
    "    split_col.getItem(2).alias('I2'),\n",
    "    split_col.getItem(3).alias('I3'),\n",
    "    split_col.getItem(4).alias('I4'),\n",
    "    split_col.getItem(5).alias('I5'),\n",
    "    split_col.getItem(6).alias('I6'),\n",
    "    split_col.getItem(7).alias('I7'),\n",
    "    split_col.getItem(8).alias('I8'),\n",
    "    split_col.getItem(9).alias('I9'),\n",
    "    split_col.getItem(10).alias('I10'),\n",
    "    split_col.getItem(11).alias('I11'),\n",
    "    split_col.getItem(12).alias('I12'),\n",
    "    split_col.getItem(13).alias('I13'),\n",
    "    split_col.getItem(14).alias('C1'),\n",
    "    split_col.getItem(15).alias('C2'),\n",
    "    split_col.getItem(16).alias('C3'),\n",
    "    split_col.getItem(17).alias('C4'),\n",
    "    split_col.getItem(18).alias('C5'),\n",
    "    split_col.getItem(19).alias('C6'),\n",
    "    split_col.getItem(20).alias('C7'),\n",
    "    split_col.getItem(21).alias('C8'),\n",
    "    split_col.getItem(22).alias('C9'),\n",
    "    split_col.getItem(23).alias('C10'),\n",
    "    split_col.getItem(24).alias('C11'),\n",
    "    split_col.getItem(25).alias('C12'),\n",
    "    split_col.getItem(26).alias('C13'),\n",
    "    split_col.getItem(27).alias('C14'),\n",
    "    split_col.getItem(28).alias('C15'),\n",
    "    split_col.getItem(29).alias('C16'),\n",
    "    split_col.getItem(30).alias('C17'),\n",
    "    split_col.getItem(31).alias('C18'),\n",
    "    split_col.getItem(32).alias('C19'),\n",
    "    split_col.getItem(33).alias('C20'),\n",
    "    split_col.getItem(34).alias('C21'),\n",
    "    split_col.getItem(35).alias('C22'),\n",
    "    split_col.getItem(36).alias('C23'),\n",
    "    split_col.getItem(37).alias('C24'),\n",
    "    split_col.getItem(38).alias('C25'),\n",
    "    split_col.getItem(39).alias('C26'),\n",
    ")\n",
    "\n",
    "query_change_train_col = [\"cast(Label as int) Label\"] \\\n",
    "+ [\"cast(I\"+str(i)+\" as int) I\"+str(i) for i in range(1, 14)] \\\n",
    "+ ['C'+str(i) for i in range(1,27)]\n",
    "\n",
    "# change variable type\n",
    "df_training = df_training_temp.selectExpr(\n",
    "    query_change_train_col\n",
    ")"
   ]
  },
  {
   "cell_type": "code",
   "execution_count": 17,
   "metadata": {},
   "outputs": [
    {
     "name": "stdout",
     "output_type": "stream",
     "text": [
      "root\n",
      " |-- Label: integer (nullable = true)\n",
      " |-- I1: integer (nullable = true)\n",
      " |-- I2: integer (nullable = true)\n",
      " |-- I3: integer (nullable = true)\n",
      " |-- I4: integer (nullable = true)\n",
      " |-- I5: integer (nullable = true)\n",
      " |-- I6: integer (nullable = true)\n",
      " |-- I7: integer (nullable = true)\n",
      " |-- I8: integer (nullable = true)\n",
      " |-- I9: integer (nullable = true)\n",
      " |-- I10: integer (nullable = true)\n",
      " |-- I11: integer (nullable = true)\n",
      " |-- I12: integer (nullable = true)\n",
      " |-- I13: integer (nullable = true)\n",
      " |-- C1: string (nullable = true)\n",
      " |-- C2: string (nullable = true)\n",
      " |-- C3: string (nullable = true)\n",
      " |-- C4: string (nullable = true)\n",
      " |-- C5: string (nullable = true)\n",
      " |-- C6: string (nullable = true)\n",
      " |-- C7: string (nullable = true)\n",
      " |-- C8: string (nullable = true)\n",
      " |-- C9: string (nullable = true)\n",
      " |-- C10: string (nullable = true)\n",
      " |-- C11: string (nullable = true)\n",
      " |-- C12: string (nullable = true)\n",
      " |-- C13: string (nullable = true)\n",
      " |-- C14: string (nullable = true)\n",
      " |-- C15: string (nullable = true)\n",
      " |-- C16: string (nullable = true)\n",
      " |-- C17: string (nullable = true)\n",
      " |-- C18: string (nullable = true)\n",
      " |-- C19: string (nullable = true)\n",
      " |-- C20: string (nullable = true)\n",
      " |-- C21: string (nullable = true)\n",
      " |-- C22: string (nullable = true)\n",
      " |-- C23: string (nullable = true)\n",
      " |-- C24: string (nullable = true)\n",
      " |-- C25: string (nullable = true)\n",
      " |-- C26: string (nullable = true)\n",
      "\n"
     ]
    }
   ],
   "source": [
    "df_training.printSchema()"
   ]
  },
  {
   "cell_type": "code",
   "execution_count": 18,
   "metadata": {},
   "outputs": [
    {
     "name": "stdout",
     "output_type": "stream",
     "text": [
      "+-----+---+---+---+---+----+---+---+---+---+---+---+----+---+--------+--------+--------+--------+--------+--------+--------+--------+--------+--------+--------+--------+--------+--------+--------+--------+--------+--------+--------+--------+--------+--------+--------+--------+--------+--------+\n",
      "|Label| I1| I2| I3| I4|  I5| I6| I7| I8| I9|I10|I11| I12|I13|      C1|      C2|      C3|      C4|      C5|      C6|      C7|      C8|      C9|     C10|     C11|     C12|     C13|     C14|     C15|     C16|     C17|     C18|     C19|     C20|     C21|     C22|     C23|     C24|     C25|     C26|\n",
      "+-----+---+---+---+---+----+---+---+---+---+---+---+----+---+--------+--------+--------+--------+--------+--------+--------+--------+--------+--------+--------+--------+--------+--------+--------+--------+--------+--------+--------+--------+--------+--------+--------+--------+--------+--------+\n",
      "|    0|  1|  1|  5|  0|1382|  4| 15|  2|181|  1|  2|null|  2|68fd1e64|80e26c9b|fb936136|7b4723c4|25c83c98|7e0ccccf|de7995b8|1f89b562|a73ee510|a8cd5504|b2cb9c98|37c9c164|2824a5f6|1adce6ef|8ba8b39a|891b62e7|e5ba7672|f54016b9|21ddcdc9|b1252a9d|07b5194c|        |3a171ecb|c5c50484|e8b83407|9727dd16|\n",
      "|    0|  2|  0| 44|  1| 102|  8|  2|  2|  4|  1|  1|null|  4|68fd1e64|f0cf0024|6f67f7e5|41274cd7|25c83c98|fe6b92e5|922afcc0|0b153874|a73ee510|2b53e5fb|4f1b46f3|623049e6|d7020589|b28479f6|e6c5b5cd|c92f3b61|07c540c4|b04e4670|21ddcdc9|5840adea|60f6221e|        |3a171ecb|43f13e8b|e8b83407|731c3655|\n",
      "|    0|  2|  0|  1| 14| 767| 89|  4|  2|245|  1|  3|   3| 45|287e684f|0a519c5c|02cf9876|c18be181|25c83c98|7e0ccccf|c78204a1|0b153874|a73ee510|3b08e48b|5f5e6091|8fe001f4|aa655a2f|07d13a8f|6dc710ed|36103458|8efede7f|3412118d|        |        |e587c466|ad3062eb|3a171ecb|3b183c5c|        |        |\n",
      "+-----+---+---+---+---+----+---+---+---+---+---+---+----+---+--------+--------+--------+--------+--------+--------+--------+--------+--------+--------+--------+--------+--------+--------+--------+--------+--------+--------+--------+--------+--------+--------+--------+--------+--------+--------+\n",
      "only showing top 3 rows\n",
      "\n"
     ]
    }
   ],
   "source": [
    "df_training.show(5)"
   ]
  },
  {
   "cell_type": "code",
   "execution_count": null,
   "metadata": {},
   "outputs": [],
   "source": []
  }
 ],
 "metadata": {
  "kernelspec": {
   "display_name": "Python 3",
   "language": "python",
   "name": "python3"
  },
  "language_info": {
   "codemirror_mode": {
    "name": "ipython",
    "version": 3
   },
   "file_extension": ".py",
   "mimetype": "text/x-python",
   "name": "python",
   "nbconvert_exporter": "python",
   "pygments_lexer": "ipython3",
   "version": "3.7.9"
  }
 },
 "nbformat": 4,
 "nbformat_minor": 4
}
