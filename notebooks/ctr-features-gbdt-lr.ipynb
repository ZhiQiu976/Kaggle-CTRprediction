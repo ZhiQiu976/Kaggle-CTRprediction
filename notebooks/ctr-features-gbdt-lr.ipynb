{
 "cells": [
  {
   "cell_type": "code",
   "execution_count": 1,
   "metadata": {
    "_cell_guid": "b1076dfc-b9ad-4769-8c92-a6c4dae69d19",
    "_uuid": "8f2839f25d086af736a60e9eeb907d3b93b6e0e5"
   },
   "outputs": [
    {
     "name": "stdout",
     "output_type": "stream",
     "text": [
      "/kaggle/input/criteo-dataset/dac/test.txt\n",
      "/kaggle/input/criteo-dataset/dac/readme.txt\n",
      "/kaggle/input/criteo-dataset/dac/train.txt\n"
     ]
    }
   ],
   "source": [
    "# This Python 3 environment comes with many helpful analytics libraries installed\n",
    "# It is defined by the kaggle/python Docker image: https://github.com/kaggle/docker-python\n",
    "# For example, here's several helpful packages to load\n",
    "\n",
    "import numpy as np # linear algebra\n",
    "import pandas as pd # data processing, CSV file I/O (e.g. pd.read_csv)\n",
    "\n",
    "# Input data files are available in the read-only \"../input/\" directory\n",
    "# For example, running this (by clicking run or pressing Shift+Enter) will list all files under the input directory\n",
    "\n",
    "import os\n",
    "for dirname, _, filenames in os.walk('/kaggle/input'):\n",
    "    for filename in filenames:\n",
    "        print(os.path.join(dirname, filename))\n",
    "\n",
    "# You can write up to 20GB to the current directory (/kaggle/working/) that gets preserved as output when you create a version using \"Save & Run All\" \n",
    "# You can also write temporary files to /kaggle/temp/, but they won't be saved outside of the current session"
   ]
  },
  {
   "cell_type": "code",
   "execution_count": 2,
   "metadata": {},
   "outputs": [
    {
     "data": {
      "text/html": [
       "<style type='text/css'>\n",
       ".datatable table.frame { margin-bottom: 0; }\n",
       ".datatable table.frame thead { border-bottom: none; }\n",
       ".datatable table.frame tr.coltypes td {  color: #FFFFFF;  line-height: 6px;  padding: 0 0.5em;}\n",
       ".datatable .bool    { background: #DDDD99; }\n",
       ".datatable .object  { background: #565656; }\n",
       ".datatable .int     { background: #5D9E5D; }\n",
       ".datatable .float   { background: #4040CC; }\n",
       ".datatable .str     { background: #CC4040; }\n",
       ".datatable .row_index {  background: var(--jp-border-color3);  border-right: 1px solid var(--jp-border-color0);  color: var(--jp-ui-font-color3);  font-size: 9px;}\n",
       ".datatable .frame tr.coltypes .row_index {  background: var(--jp-border-color0);}\n",
       ".datatable th:nth-child(2) { padding-left: 12px; }\n",
       ".datatable .hellipsis {  color: var(--jp-cell-editor-border-color);}\n",
       ".datatable .vellipsis {  background: var(--jp-layout-color0);  color: var(--jp-cell-editor-border-color);}\n",
       ".datatable .na {  color: var(--jp-cell-editor-border-color);  font-size: 80%;}\n",
       ".datatable .footer { font-size: 9px; }\n",
       ".datatable .frame_dimensions {  background: var(--jp-border-color3);  border-top: 1px solid var(--jp-border-color0);  color: var(--jp-ui-font-color3);  display: inline-block;  opacity: 0.6;  padding: 1px 10px 1px 5px;}\n",
       "</style>\n"
      ],
      "text/plain": [
       "<IPython.core.display.HTML object>"
      ]
     },
     "metadata": {},
     "output_type": "display_data"
    }
   ],
   "source": [
    "import seaborn as sns;\n",
    "import matplotlib.pyplot as plt\n",
    "import scipy\n",
    "\n",
    "from sklearn.preprocessing import OneHotEncoder, KBinsDiscretizer\n",
    "from sklearn.compose import ColumnTransformer\n",
    "from sklearn.ensemble import GradientBoostingClassifier\n",
    "from sklearn.linear_model import LogisticRegression\n",
    "from sklearn.metrics import log_loss\n",
    "\n",
    "import lightgbm as lgbm"
   ]
  },
  {
   "cell_type": "code",
   "execution_count": 3,
   "metadata": {},
   "outputs": [],
   "source": [
    "col_names_train = ['Label'] + \\\n",
    "[\"I\"+str(i) for i in range(1, 14)] + \\\n",
    "['C'+str(i) for i in range(1,27)]\n",
    "\n",
    "#col_names_test = col_names_train[1:]\n",
    "\n",
    "df_train = pd.read_csv('/kaggle/input/criteo-dataset/dac/train.txt', \n",
    "                       sep='\\t', names=col_names_train,\n",
    "                       chunksize=100000) # ten chunks: first 1,000,000\n",
    "\n",
    "# df_test = pd.read_csv('/kaggle/input/criteo-dataset/dac/test.txt', \n",
    "#                       sep='\\t', names=col_names_test,\n",
    "#                       chunksize=100000)\n",
    "\n",
    "# don't re-run, getting without replacement\n",
    "df_train_100 = df_train.get_chunk(1000000)\n",
    "df_test_25 = df_train.get_chunk(250000)\n",
    "\n",
    "# Using the first one million records for analysis\n",
    "# use the next 250,000 as testing data"
   ]
  },
  {
   "cell_type": "code",
   "execution_count": 4,
   "metadata": {},
   "outputs": [],
   "source": [
    "# for simplicity of model fitting, no cross-validation process\n",
    "# directly train on df_train_100 and test for performance on df_test_25 \n",
    "\n",
    "df_train_100 = df_train_100.convert_dtypes()\n",
    "df_test_25 = df_test_25.convert_dtypes()"
   ]
  },
  {
   "cell_type": "markdown",
   "metadata": {},
   "source": [
    "## Notes\n",
    "- Using the first one million records for analysis\n",
    "- Using the next 250,000 as testing data\n",
    "- for simplicity of model fitting, no cross-validation process\n",
    "- directly train on df_train_100 and test for performance on df_test_25"
   ]
  },
  {
   "cell_type": "markdown",
   "metadata": {},
   "source": [
    "## 有大量缺失的特征和标签间的相关性调查\n",
    "\n",
    "- above 70% missing: I12, C22"
   ]
  },
  {
   "cell_type": "code",
   "execution_count": 5,
   "metadata": {},
   "outputs": [
    {
     "data": {
      "image/png": "[encoded data removed]",
      "text/plain": [
       "<Figure size 432x288 with 1 Axes>"
      ]
     },
     "metadata": {
      "needs_background": "light"
     },
     "output_type": "display_data"
    },
    {
     "data": {
      "image/png": "[encoded data removed]",
      "text/plain": [
       "<Figure size 402.375x360 with 1 Axes>"
      ]
     },
     "metadata": {
      "needs_background": "light"
     },
     "output_type": "display_data"
    }
   ],
   "source": [
    "# I12 0.770057\n",
    "p1 = sns.boxplot(x=\"Label\", y=\"I12\", data=df_train_100)\n",
    "p2 = sns.displot(df_train_100, x=\"I12\", hue=\"Label\")"
   ]
  },
  {
   "cell_type": "code",
   "execution_count": 6,
   "metadata": {},
   "outputs": [
    {
     "data": {
      "image/png": "[encoded data removed]",
      "text/plain": [
       "<Figure size 432x288 with 1 Axes>"
      ]
     },
     "metadata": {
      "needs_background": "light"
     },
     "output_type": "display_data"
    },
    {
     "data": {
      "image/png": "[encoded data removed]",
      "text/plain": [
       "<Figure size 402.375x360 with 1 Axes>"
      ]
     },
     "metadata": {
      "needs_background": "light"
     },
     "output_type": "display_data"
    }
   ],
   "source": [
    "I12_temp = df_train_100[df_train_100.I12.between(1,5)]\n",
    "p1 = sns.boxplot(x=\"Label\", y=\"I12\", data=I12_temp)\n",
    "p2 = sns.displot(I12_temp, x=\"I12\", hue=\"Label\")"
   ]
  },
  {
   "cell_type": "code",
   "execution_count": 7,
   "metadata": {},
   "outputs": [
    {
     "data": {
      "image/png": "[encoded data removed]",
      "text/plain": [
       "<Figure size 432x288 with 1 Axes>"
      ]
     },
     "metadata": {
      "needs_background": "light"
     },
     "output_type": "display_data"
    },
    {
     "data": {
      "image/png": "[encoded data removed]",
      "text/plain": [
       "<Figure size 402.375x360 with 1 Axes>"
      ]
     },
     "metadata": {
      "needs_background": "light"
     },
     "output_type": "display_data"
    }
   ],
   "source": [
    "I12_temp = df_train_100[df_train_100.I12.between(5,25)]\n",
    "p1 = sns.boxplot(x=\"Label\", y=\"I12\", data=I12_temp)\n",
    "p2 = sns.displot(I12_temp, x=\"I12\", hue=\"Label\")"
   ]
  },
  {
   "cell_type": "markdown",
   "metadata": {},
   "source": [
    "- I12与Label间无明显相关性（各个值上都出现两种标签），77%缺少 -> 可考虑舍弃该特征\n",
    "- 或对数值类特征分箱/离散化"
   ]
  },
  {
   "cell_type": "code",
   "execution_count": 8,
   "metadata": {},
   "outputs": [
    {
     "data": {
      "image/png": "[encoded data removed]",
      "text/plain": [
       "<Figure size 402.375x360 with 1 Axes>"
      ]
     },
     "metadata": {
      "needs_background": "light"
     },
     "output_type": "display_data"
    }
   ],
   "source": [
    "# C22      0.738959\n",
    "p1 = sns.catplot(x='C22', hue='Label', kind='count', data=df_train_100)\n",
    "plt.xticks(rotation=90)\n",
    "plt.show()"
   ]
  },
  {
   "cell_type": "markdown",
   "metadata": {},
   "source": [
    "## 特征工程 - GBDT\n",
    "- basing on 3idiots-preA\n",
    "- https://github.com/ycjuan/kaggle-2014-criteo\n",
    "- https://www.kaggle.com/c/criteo-display-ad-challenge/discussion/10555\n",
    "- replace all numerical missing values with -10; one-hot encoding with selection (only include dense variables)\n",
    "`target_cat_feats = ['C9-a73ee510', 'C22-', 'C17-e5ba7672', 'C26-', 'C23-32c7478e', 'C6-7e0ccccf', 'C14-b28479f6', 'C19-21ddcdc9', 'C14-07d13a8f', 'C10-3b08e48b', 'C6-fbad5c96', 'C23-3a171ecb', 'C20-b1252a9d', 'C20-5840adea', 'C6-fe6b92e5', 'C20-a458ea53', 'C14-1adce6ef', 'C25-001f3601', 'C22-ad3062eb', 'C17-07c540c4', 'C6-', 'C23-423fab69', 'C17-d4bb7bd8', 'C2-38a947a1', 'C25-e8b83407', 'C9-7cc72ec2']`\n",
    "- 特征构建逻辑: 有缺失的数值型特征都只含非负值（除了I2，最小值-2但无缺失），-10是给NA赋了一个特殊值，并且无缺失项有负值，所以给NA赋负值较为合理（**可用其他值，范围外不影响score**）；对所有类别型特征做one-hot后只保留稠密（在原完整训练集中出现超过四百万次）的特征，因为传统gbdt不适合过分稀疏的特征矩阵（prohibitively expensive computation & memory problem），原始one-hot之后的特征需做筛选（**可根据此训练集尝试其他筛选**）"
   ]
  },
  {
   "cell_type": "markdown",
   "metadata": {},
   "source": [
    "### 3-idiots methods"
   ]
  },
  {
   "cell_type": "code",
   "execution_count": 9,
   "metadata": {},
   "outputs": [],
   "source": [
    "def pre1_gbdt(df_train, df_test):\n",
    "    '''\n",
    "    Function for preprocessing dataframes for gbdt model with methods in \n",
    "    Team 3idiots' solution.\n",
    "    '''\n",
    "    \n",
    "    my_dict = dict.fromkeys(col_names_train[1:14], -10)\n",
    "    my_dict.update(dict.fromkeys(col_names_train[14:], 'NA'))\n",
    "\n",
    "    df_train = df_train.fillna(my_dict) # inplace=True will change global var\n",
    "    df_test = df_test.fillna(my_dict)\n",
    "    \n",
    "#     df1 = pd.get_dummies(df_train_100, columns=df_train_100.columns[14:],\n",
    "#                          prefix=col, prefix_sep='-',\n",
    "#                          dummy_na=True, sparse=True)\n",
    "    \n",
    "    y_train = df_train.Label.values.astype('int')\n",
    "    y_test = df_test.Label.values.astype('int')\n",
    "    \n",
    "    ct = ColumnTransformer(transformers=[('encoder',\n",
    "                                      OneHotEncoder(handle_unknown='ignore'), \n",
    "                                      col_names_train[14:])],\n",
    "                       remainder='passthrough')\n",
    "    X_train = ct.fit_transform(df_train.iloc[:, 1:]) # sparse matrix\n",
    "    X_test = ct.transform(df_test.iloc[:, 1:]) # sparse matrix\n",
    "    \n",
    "    target_feats = ['encoder__x8_a73ee510', 'encoder__x21_NA',\n",
    "                    'encoder__x16_e5ba7672', 'encoder__x25_NA', \n",
    "                    'encoder__x22_32c7478e', 'encoder__x5_7e0ccccf',\n",
    "                    'encoder__x13_b28479f6', 'encoder__x18_21ddcdc9',\n",
    "                    'encoder__x13_07d13a8f', 'encoder__x9_3b08e48b',\n",
    "                    'encoder__x5_fbad5c96', 'encoder__x22_3a171ecb',\n",
    "                    'encoder__x19_b1252a9d', 'encoder__x19_5840adea',\n",
    "                    'encoder__x5_fe6b92e5', 'encoder__x19_a458ea53', \n",
    "                    'encoder__x13_1adce6ef', 'encoder__x24_001f3601',\n",
    "                    'encoder__x21_ad3062eb', 'encoder__x16_07c540c4',\n",
    "                    'encoder__x5_NA', 'encoder__x22_423fab69', \n",
    "                    'encoder__x16_d4bb7bd8', 'encoder__x1_38a947a1',\n",
    "                    'encoder__x24_e8b83407', 'encoder__x8_7cc72ec2'] \\\n",
    "    + [\"I\"+str(i) for i in range(1, 14)]\n",
    "    index_selected = [i for i, x in enumerate(ct.get_feature_names())\\\n",
    "                      if x in target_feats]\n",
    "    \n",
    "    X_train = X_train[:, index_selected]\n",
    "    X_test = X_test[:, index_selected]\n",
    "    \n",
    "    return X_train, X_test, y_train, y_test\n",
    "\n",
    "X_train, X_test, y_train, y_test = pre1_gbdt(df_train_100, df_test_25)"
   ]
  },
  {
   "cell_type": "code",
   "execution_count": 10,
   "metadata": {},
   "outputs": [
    {
     "data": {
      "text/plain": [
       "(0.4982, 0.4968)"
      ]
     },
     "execution_count": 10,
     "metadata": {},
     "output_type": "execute_result"
    }
   ],
   "source": [
    "# GBDT model only, pre1_gbdt\n",
    "grd = GradientBoostingClassifier() # with default setting\n",
    "grd.fit(X_train, y_train)\n",
    "\n",
    "y_pred_train_grd = grd.predict_proba(X_train)[:, 1] # prob of y=1\n",
    "y_pred_test_grd = grd.predict_proba(X_test)[:, 1] # prob of y=1\n",
    "score_train = log_loss(y_train, y_pred_train_grd)\n",
    "score_test = log_loss(y_test, y_pred_test_grd)\n",
    "np.round(score_train, 4), np.round(score_test, 4)"
   ]
  },
  {
   "cell_type": "markdown",
   "metadata": {},
   "source": [
    "training, testing : (0.4982, 0.4968) - 13 + 26 variables"
   ]
  },
  {
   "cell_type": "markdown",
   "metadata": {},
   "source": [
    "### modification on 3-idiots"
   ]
  },
  {
   "cell_type": "code",
   "execution_count": 11,
   "metadata": {},
   "outputs": [],
   "source": [
    "def pre2_gbdt(df_train, df_test):\n",
    "    '''\n",
    "    Function for preprocessing dataframes for gbdt model with modification on\n",
    "    methods in Team 3idiots' solution:\n",
    "    - dropping I12;\n",
    "    - one-hot encodded features with appearance more than ..%.\n",
    "    '''\n",
    "    \n",
    "    my_dict = dict.fromkeys(col_names_train[1:14], -10)\n",
    "    my_dict.update(dict.fromkeys(col_names_train[14:], 'NA'))\n",
    "\n",
    "    df_train = df_train.fillna(my_dict) # inplace=True will change global var\n",
    "    df_test = df_test.fillna(my_dict)\n",
    "    \n",
    "    y_train = df_train.Label.values.astype('int')\n",
    "    y_test = df_test.Label.values.astype('int')\n",
    "    \n",
    "    ct = ColumnTransformer(transformers=[('encoder',\n",
    "                                      OneHotEncoder(handle_unknown='ignore'), \n",
    "                                      col_names_train[14:])],\n",
    "                       remainder='passthrough')\n",
    "    X_train = ct.fit_transform(df_train.iloc[:, 1:]) # sparse matrix\n",
    "    X_test = ct.transform(df_test.iloc[:, 1:]) # sparse matrix\n",
    "    \n",
    "    # select one-hot encodded features with appearance more than ..%\n",
    "    selected_cat = np.asarray(X_train.sum(axis=0)[:,:-13] > 500000).reshape(-1)\n",
    "    # exclude I12\n",
    "    target_feats = [i for (i, v) in zip(ct.get_feature_names(), selected_cat) if v] \\\n",
    "    + [\"I\"+str(i) for i in range(1, 12)] + ['I13']\n",
    "    index_selected = [i for i, x in enumerate(ct.get_feature_names())\\\n",
    "                      if x in target_feats]\n",
    "    \n",
    "    X_train = X_train[:, index_selected]\n",
    "    X_test = X_test[:, index_selected]\n",
    "    \n",
    "    return X_train, X_test, y_train, y_test\n",
    "\n",
    "X_train, X_test, y_train, y_test = pre2_gbdt(df_train_100, df_test_25)"
   ]
  },
  {
   "cell_type": "code",
   "execution_count": 12,
   "metadata": {},
   "outputs": [
    {
     "data": {
      "text/plain": [
       "(0.5054, 0.5044)"
      ]
     },
     "execution_count": 12,
     "metadata": {},
     "output_type": "execute_result"
    }
   ],
   "source": [
    "# GBDT model only, pre2_gbdt\n",
    "grd = GradientBoostingClassifier() # with default setting\n",
    "grd.fit(X_train, y_train)\n",
    "\n",
    "y_pred_train_grd = grd.predict_proba(X_train)[:, 1] # prob of y=1\n",
    "y_pred_test_grd = grd.predict_proba(X_test)[:, 1] # prob of y=1\n",
    "score_train = log_loss(y_train, y_pred_train_grd)\n",
    "score_test = log_loss(y_test, y_pred_test_grd)\n",
    "np.round(score_train, 4), np.round(score_test, 4)"
   ]
  },
  {
   "cell_type": "markdown",
   "metadata": {},
   "source": [
    "- training, testing : (0.4987, 0.4976) - dropping I12 (12 + 26 variables)\n",
    "- training, testing : (0.5038, 0.5027) - dropping I12 & above 40% dummies only (12 + 9 variables - `['encoder__x0_05db9164',\n",
    " 'encoder__x4_25c83c98',\n",
    " 'encoder__x7_0b153874',\n",
    " 'encoder__x8_a73ee510',\n",
    " 'encoder__x16_e5ba7672',\n",
    " 'encoder__x18_NA',\n",
    " 'encoder__x19_NA',\n",
    " 'encoder__x21_NA',\n",
    " 'encoder__x24_NA',\n",
    " 'encoder__x25_NA']`)\n",
    "- training, testing : (0.5054, 0.5044) - dropping I12 & above 50% dummies only (12 + 5 variables - `['encoder__x0_05db9164',\n",
    " 'encoder__x4_25c83c98',\n",
    " 'encoder__x7_0b153874',\n",
    " 'encoder__x8_a73ee510',\n",
    " 'encoder__x21_NA']`)"
   ]
  },
  {
   "cell_type": "markdown",
   "metadata": {},
   "source": [
    "### 数值型特征离散化\n",
    "\n",
    "- the value in replace with na may matter here"
   ]
  },
  {
   "cell_type": "code",
   "execution_count": 13,
   "metadata": {},
   "outputs": [
    {
     "name": "stderr",
     "output_type": "stream",
     "text": [
      "/opt/conda/lib/python3.7/site-packages/sklearn/preprocessing/_discretization.py:222: UserWarning: Bins whose width are too small (i.e., <= 1e-8) in feature 0 are removed. Consider decreasing the number of bins.\n",
      "  'decreasing the number of bins.' % jj)\n",
      "/opt/conda/lib/python3.7/site-packages/sklearn/preprocessing/_discretization.py:222: UserWarning: Bins whose width are too small (i.e., <= 1e-8) in feature 1 are removed. Consider decreasing the number of bins.\n",
      "  'decreasing the number of bins.' % jj)\n",
      "/opt/conda/lib/python3.7/site-packages/sklearn/preprocessing/_discretization.py:222: UserWarning: Bins whose width are too small (i.e., <= 1e-8) in feature 2 are removed. Consider decreasing the number of bins.\n",
      "  'decreasing the number of bins.' % jj)\n",
      "/opt/conda/lib/python3.7/site-packages/sklearn/preprocessing/_discretization.py:222: UserWarning: Bins whose width are too small (i.e., <= 1e-8) in feature 3 are removed. Consider decreasing the number of bins.\n",
      "  'decreasing the number of bins.' % jj)\n",
      "/opt/conda/lib/python3.7/site-packages/sklearn/preprocessing/_discretization.py:222: UserWarning: Bins whose width are too small (i.e., <= 1e-8) in feature 5 are removed. Consider decreasing the number of bins.\n",
      "  'decreasing the number of bins.' % jj)\n",
      "/opt/conda/lib/python3.7/site-packages/sklearn/preprocessing/_discretization.py:222: UserWarning: Bins whose width are too small (i.e., <= 1e-8) in feature 6 are removed. Consider decreasing the number of bins.\n",
      "  'decreasing the number of bins.' % jj)\n",
      "/opt/conda/lib/python3.7/site-packages/sklearn/preprocessing/_discretization.py:222: UserWarning: Bins whose width are too small (i.e., <= 1e-8) in feature 9 are removed. Consider decreasing the number of bins.\n",
      "  'decreasing the number of bins.' % jj)\n",
      "/opt/conda/lib/python3.7/site-packages/sklearn/preprocessing/_discretization.py:222: UserWarning: Bins whose width are too small (i.e., <= 1e-8) in feature 10 are removed. Consider decreasing the number of bins.\n",
      "  'decreasing the number of bins.' % jj)\n",
      "/opt/conda/lib/python3.7/site-packages/sklearn/preprocessing/_discretization.py:222: UserWarning: Bins whose width are too small (i.e., <= 1e-8) in feature 11 are removed. Consider decreasing the number of bins.\n",
      "  'decreasing the number of bins.' % jj)\n",
      "/opt/conda/lib/python3.7/site-packages/sklearn/preprocessing/_discretization.py:222: UserWarning: Bins whose width are too small (i.e., <= 1e-8) in feature 12 are removed. Consider decreasing the number of bins.\n",
      "  'decreasing the number of bins.' % jj)\n"
     ]
    }
   ],
   "source": [
    "def pre3_gbdt(df_train, df_test):\n",
    "    '''\n",
    "    Function for preprocessing dataframes for gbdt model with modification on\n",
    "    methods in Team 3idiots' solution:\n",
    "    - quantile discretization & one-hot on numerical features;\n",
    "    - one-hot encodded features with appearance more than 50%.\n",
    "    '''\n",
    "    \n",
    "    my_dict = dict.fromkeys(col_names_train[1:14], -10)\n",
    "    my_dict.update(dict.fromkeys(col_names_train[14:], 'NA'))\n",
    "\n",
    "    df_train = df_train.fillna(my_dict) # inplace=True will change global var\n",
    "    df_test = df_test.fillna(my_dict)\n",
    "    \n",
    "    y_train = df_train.Label.values.astype('int')\n",
    "    y_test = df_test.Label.values.astype('int')\n",
    "    \n",
    "    # transformers: discretization and one-hot encoding\n",
    "    numeric_features = col_names_train[1:14]\n",
    "    numeric_transformer = KBinsDiscretizer(n_bins=10, encode='onehot',\n",
    "                                           strategy='quantile')\n",
    "\n",
    "    categorical_features = col_names_train[14:]\n",
    "    categorical_transformer = OneHotEncoder(handle_unknown='ignore')\n",
    "\n",
    "    ct = ColumnTransformer(\n",
    "        transformers=[\n",
    "            ('num', numeric_transformer, numeric_features),\n",
    "            ('cat', categorical_transformer, categorical_features)])\n",
    "\n",
    "    X_train = ct.fit_transform(df_train.iloc[:, 1:]) # sparse matrix\n",
    "    X_test = ct.transform(df_test.iloc[:, 1:]) # sparse matrix\n",
    "    \n",
    "    # select one-hot encodded features with appearance more than 50%\n",
    "    selected_cat = np.asarray(X_train.sum(axis=0) > 500000).reshape(-1)\n",
    "    \n",
    "    X_train = X_train[:, selected_cat]\n",
    "    X_test = X_test[:, selected_cat]\n",
    "    \n",
    "    return X_train, X_test, y_train, y_test\n",
    "\n",
    "X_train, X_test, y_train, y_test = pre3_gbdt(df_train_100, df_test_25)"
   ]
  },
  {
   "cell_type": "code",
   "execution_count": 14,
   "metadata": {},
   "outputs": [
    {
     "data": {
      "text/plain": [
       "(0.5609, 0.5565)"
      ]
     },
     "execution_count": 14,
     "metadata": {},
     "output_type": "execute_result"
    }
   ],
   "source": [
    "# GBDT model only, pre3_gbdt\n",
    "grd = GradientBoostingClassifier() # with default setting\n",
    "grd.fit(X_train, y_train)\n",
    "\n",
    "y_pred_train_grd = grd.predict_proba(X_train)[:, 1] # prob of y=1\n",
    "y_pred_test_grd = grd.predict_proba(X_test)[:, 1] # prob of y=1\n",
    "score_train = log_loss(y_train, y_pred_train_grd)\n",
    "score_test = log_loss(y_test, y_pred_test_grd)\n",
    "np.round(score_train, 4), np.round(score_test, 4)"
   ]
  },
  {
   "cell_type": "markdown",
   "metadata": {},
   "source": [
    "- training, testing : (0.5506, 0.5468) - uniform discretization (-10 for NA, n_bins=10) + appearance more than 50% (17 variables)\n",
    "- training, testing : (0.541, 0.538) - kmeans discretization (-10 for NA, n_bins=5) + appearance more than 50% (17 variables)\n",
    "- training, testing : (0.5609, 0.5565) - quantile discretization (-1/-10/-100 for NA, n_bins=10/5) + appearance more than 50% (6 variables)"
   ]
  },
  {
   "cell_type": "markdown",
   "metadata": {},
   "source": [
    "## 特征工程：GBDT+LR\n"
   ]
  },
  {
   "cell_type": "markdown",
   "metadata": {},
   "source": [
    "- 人工特征 + LR: same/similar results as gbdt (ref: https://datascience.stackexchange.com/questions/18081/gradient-boosting-vs-logistic-regression-for-boolean-features)\n",
    "    - kmeans: (0.5428, 0.5397)\n",
    "    - quantile: (0.5609, 0.5565)\n",
    "    - uniform: (0.5506, 0.5469)"
   ]
  },
  {
   "cell_type": "code",
   "execution_count": 15,
   "metadata": {},
   "outputs": [
    {
     "data": {
      "text/plain": [
       "(0.5609, 0.5565)"
      ]
     },
     "execution_count": 15,
     "metadata": {},
     "output_type": "execute_result"
    }
   ],
   "source": [
    "# using pre3_gbdt preprocessed features directly in LR\n",
    "#X_train, X_test, y_train, y_test = pre3_gbdt(df_train_100, df_test_25)\n",
    "\n",
    "lr = LogisticRegression(random_state=0, solver='sag', max_iter=1000) \n",
    "# stochastic average gradient, l2 penalty\n",
    "lr.fit(X_train, y_train)\n",
    "\n",
    "y_pred_train_lr = lr.predict_proba(X_train)[:, 1] # prob of y=1\n",
    "y_pred_test_lr = lr.predict_proba(X_test)[:, 1] # prob of y=1\n",
    "score_train = log_loss(y_train, y_pred_train_lr)\n",
    "score_test = log_loss(y_test, y_pred_test_lr)\n",
    "np.round(score_train, 4), np.round(score_test, 4)"
   ]
  },
  {
   "cell_type": "code",
   "execution_count": 16,
   "metadata": {},
   "outputs": [],
   "source": [
    "def pre3_gbdt_temp(df_train, df_test):\n",
    "    '''\n",
    "    Function for preprocessing dataframes for gbdt model with modification on\n",
    "    methods in Team 3idiots' solution:\n",
    "    - kmeans discretization & one-hot on numerical features;\n",
    "    - one-hot encodded features with appearance more than 50%.\n",
    "    '''\n",
    "    \n",
    "    my_dict = dict.fromkeys(col_names_train[1:14], -10)\n",
    "    my_dict.update(dict.fromkeys(col_names_train[14:], 'NA'))\n",
    "\n",
    "    df_train = df_train.fillna(my_dict) # inplace=True will change global var\n",
    "    df_test = df_test.fillna(my_dict)\n",
    "    \n",
    "    y_train = df_train.Label.values.astype('int')\n",
    "    y_test = df_test.Label.values.astype('int')\n",
    "    \n",
    "    # transformers: discretization and one-hot encoding\n",
    "    numeric_features = col_names_train[1:14]\n",
    "    numeric_transformer = KBinsDiscretizer(n_bins=5, encode='onehot',\n",
    "                                           strategy='kmeans')\n",
    "\n",
    "    categorical_features = col_names_train[14:]\n",
    "    categorical_transformer = OneHotEncoder(handle_unknown='ignore')\n",
    "\n",
    "    ct = ColumnTransformer(\n",
    "        transformers=[\n",
    "            ('num', numeric_transformer, numeric_features),\n",
    "            ('cat', categorical_transformer, categorical_features)])\n",
    "\n",
    "    X_train = ct.fit_transform(df_train.iloc[:, 1:]) # sparse matrix\n",
    "    X_test = ct.transform(df_test.iloc[:, 1:]) # sparse matrix\n",
    "    \n",
    "    # select one-hot encodded features with appearance more than 50%\n",
    "    selected_cat = np.asarray(X_train.sum(axis=0) > 500000).reshape(-1)\n",
    "    \n",
    "    X_train = X_train[:, selected_cat]\n",
    "    X_test = X_test[:, selected_cat]\n",
    "    \n",
    "    return X_train, X_test, y_train, y_test\n",
    "\n",
    "X_train, X_test, y_train, y_test = pre3_gbdt_temp(df_train_100, df_test_25)"
   ]
  },
  {
   "cell_type": "code",
   "execution_count": 17,
   "metadata": {},
   "outputs": [
    {
     "data": {
      "text/plain": [
       "(0.5428, 0.5397)"
      ]
     },
     "execution_count": 17,
     "metadata": {},
     "output_type": "execute_result"
    }
   ],
   "source": [
    "# using pre3_gbdt_temp preprocessed features in LR\n",
    "lr = LogisticRegression(random_state=0, solver='sag', max_iter=1000) # stochastic average gradient\n",
    "lr.fit(X_train, y_train)\n",
    "\n",
    "y_pred_train_lr = lr.predict_proba(X_train)[:, 1] # prob of y=1\n",
    "y_pred_test_lr = lr.predict_proba(X_test)[:, 1] # prob of y=1\n",
    "score_train = log_loss(y_train, y_pred_train_lr)\n",
    "score_test = log_loss(y_test, y_pred_test_lr)\n",
    "np.round(score_train, 4), np.round(score_test, 4)"
   ]
  },
  {
   "cell_type": "markdown",
   "metadata": {},
   "source": [
    "- GBDT特征 + LR: taking the index of the prediction leaf node for every tree as the sparse input for logistic regression (ref: https://towardsdatascience.com/next-better-player-gbdt-lr-for-binary-classification-f8dc6f32628e) (ref: https://scikit-learn.org/stable/auto_examples/ensemble/plot_feature_transformation.html#example-ensemble-plot-feature-transformation-py)\n",
    "\n",
    "    1. 延用之前的GBDT框架（pre3_gbdt, 6 variables) -> 800 (100 tree, depth 3) leaf index feature into LR(random_state=0, solver='sag', max_iter=1000, penalty='l2') -> (0.5609, 0.5565)， 和之前一样\n",
    "    2. 之前的GBDT框架+其他筛选条件（pre1_lr) (LR: random_state=0, solver='saga', penalty='l1', max_iter=1000):\n",
    "        - 10% : 103 variables, GBDT score (0.504, 0.5019) -> LR score (0.4979, 0.4967)\n",
    "        - 30% : 19 variables, GBDT score (0.5392, 0.5358) -> LR score (0.5386, 0.5355)"
   ]
  },
  {
   "cell_type": "code",
   "execution_count": 18,
   "metadata": {},
   "outputs": [
    {
     "name": "stderr",
     "output_type": "stream",
     "text": [
      "/opt/conda/lib/python3.7/site-packages/sklearn/preprocessing/_discretization.py:222: UserWarning: Bins whose width are too small (i.e., <= 1e-8) in feature 0 are removed. Consider decreasing the number of bins.\n",
      "  'decreasing the number of bins.' % jj)\n",
      "/opt/conda/lib/python3.7/site-packages/sklearn/preprocessing/_discretization.py:222: UserWarning: Bins whose width are too small (i.e., <= 1e-8) in feature 1 are removed. Consider decreasing the number of bins.\n",
      "  'decreasing the number of bins.' % jj)\n",
      "/opt/conda/lib/python3.7/site-packages/sklearn/preprocessing/_discretization.py:222: UserWarning: Bins whose width are too small (i.e., <= 1e-8) in feature 2 are removed. Consider decreasing the number of bins.\n",
      "  'decreasing the number of bins.' % jj)\n",
      "/opt/conda/lib/python3.7/site-packages/sklearn/preprocessing/_discretization.py:222: UserWarning: Bins whose width are too small (i.e., <= 1e-8) in feature 3 are removed. Consider decreasing the number of bins.\n",
      "  'decreasing the number of bins.' % jj)\n",
      "/opt/conda/lib/python3.7/site-packages/sklearn/preprocessing/_discretization.py:222: UserWarning: Bins whose width are too small (i.e., <= 1e-8) in feature 5 are removed. Consider decreasing the number of bins.\n",
      "  'decreasing the number of bins.' % jj)\n",
      "/opt/conda/lib/python3.7/site-packages/sklearn/preprocessing/_discretization.py:222: UserWarning: Bins whose width are too small (i.e., <= 1e-8) in feature 6 are removed. Consider decreasing the number of bins.\n",
      "  'decreasing the number of bins.' % jj)\n",
      "/opt/conda/lib/python3.7/site-packages/sklearn/preprocessing/_discretization.py:222: UserWarning: Bins whose width are too small (i.e., <= 1e-8) in feature 9 are removed. Consider decreasing the number of bins.\n",
      "  'decreasing the number of bins.' % jj)\n",
      "/opt/conda/lib/python3.7/site-packages/sklearn/preprocessing/_discretization.py:222: UserWarning: Bins whose width are too small (i.e., <= 1e-8) in feature 10 are removed. Consider decreasing the number of bins.\n",
      "  'decreasing the number of bins.' % jj)\n",
      "/opt/conda/lib/python3.7/site-packages/sklearn/preprocessing/_discretization.py:222: UserWarning: Bins whose width are too small (i.e., <= 1e-8) in feature 11 are removed. Consider decreasing the number of bins.\n",
      "  'decreasing the number of bins.' % jj)\n",
      "/opt/conda/lib/python3.7/site-packages/sklearn/preprocessing/_discretization.py:222: UserWarning: Bins whose width are too small (i.e., <= 1e-8) in feature 12 are removed. Consider decreasing the number of bins.\n",
      "  'decreasing the number of bins.' % jj)\n"
     ]
    }
   ],
   "source": [
    "def pre1_lr(df_train, df_test):\n",
    "    '''\n",
    "    Function for preprocessing dataframes to get GBDT features for lr model.\n",
    "    - quantile discretization & one-hot on numerical features;\n",
    "    - one-hot encodded features with appearance more than ..%.\n",
    "    '''\n",
    "    \n",
    "    my_dict = dict.fromkeys(col_names_train[1:14], -10)\n",
    "    my_dict.update(dict.fromkeys(col_names_train[14:], 'NA'))\n",
    "\n",
    "    df_train = df_train.fillna(my_dict) # inplace=True will change global var\n",
    "    df_test = df_test.fillna(my_dict)\n",
    "    \n",
    "    y_train = df_train.Label.values.astype('int')\n",
    "    y_test = df_test.Label.values.astype('int')\n",
    "    \n",
    "    # transformers: discretization and one-hot encoding\n",
    "    numeric_features = col_names_train[1:14]\n",
    "    numeric_transformer = KBinsDiscretizer(n_bins=10, encode='onehot',\n",
    "                                           strategy='quantile')\n",
    "\n",
    "    categorical_features = col_names_train[14:]\n",
    "    categorical_transformer = OneHotEncoder(handle_unknown='ignore')\n",
    "\n",
    "    ct = ColumnTransformer(\n",
    "        transformers=[\n",
    "            ('num', numeric_transformer, numeric_features),\n",
    "            ('cat', categorical_transformer, categorical_features)])\n",
    "\n",
    "    X_train = ct.fit_transform(df_train.iloc[:, 1:]) # sparse matrix\n",
    "    X_test = ct.transform(df_test.iloc[:, 1:]) # sparse matrix\n",
    "    \n",
    "    # select one-hot encodded features with appearance more than 30%\n",
    "    selected_cat = np.asarray(X_train.sum(axis=0) > 300000).reshape(-1)\n",
    "    \n",
    "    X_train = X_train[:, selected_cat]\n",
    "    X_test = X_test[:, selected_cat]\n",
    "    \n",
    "    return X_train, X_test, y_train, y_test\n",
    "\n",
    "X_train, X_test, y_train, y_test = pre1_lr(df_train_100, df_test_25)"
   ]
  },
  {
   "cell_type": "code",
   "execution_count": 19,
   "metadata": {},
   "outputs": [
    {
     "data": {
      "text/plain": [
       "(0.5392, 0.5358)"
      ]
     },
     "execution_count": 19,
     "metadata": {},
     "output_type": "execute_result"
    }
   ],
   "source": [
    "# 中间检查，GBDT模型效果\n",
    "grd = GradientBoostingClassifier() # n_estimators=100, max_depth=3\n",
    "grd.fit(X_train, y_train)\n",
    "\n",
    "y_pred_train_grd = grd.predict_proba(X_train)[:, 1] # prob of y=1\n",
    "y_pred_test_grd = grd.predict_proba(X_test)[:, 1] # prob of y=1\n",
    "score_train = log_loss(y_train, y_pred_train_grd)\n",
    "score_test = log_loss(y_test, y_pred_test_grd)\n",
    "np.round(score_train, 4), np.round(score_test, 4)"
   ]
  },
  {
   "cell_type": "code",
   "execution_count": 20,
   "metadata": {},
   "outputs": [],
   "source": [
    "# GBDT特征\n",
    "#grd = GradientBoostingClassifier() # n_estimators=100, max_depth=3\n",
    "grd_enc = OneHotEncoder()\n",
    "#grd.fit(X_train, y_train)\n",
    "grd_enc.fit(grd.apply(X_train)[:, :, 0]) # OHE on indexes\n",
    "X_train_part2 = grd_enc.transform(grd.apply(X_train)[:, :, 0])\n",
    "X_test_part2 = grd_enc.transform(grd.apply(X_test)[:, :, 0])"
   ]
  },
  {
   "cell_type": "code",
   "execution_count": 21,
   "metadata": {},
   "outputs": [],
   "source": [
    "# # LR\n",
    "# grd_lm = LogisticRegression(random_state=0, solver='saga', \n",
    "#                             penalty='l1', max_iter=1000)\n",
    "# # feed into LR\n",
    "# grd_lm.fit(X_train_part2, y_train)\n",
    "\n",
    "# y_pred_train_grd_lm = grd_lm.predict_proba(X_train_part2)[:, 1]\n",
    "# y_pred_test_grd_lm = grd_lm.predict_proba(X_test_part2)[:, 1]\n",
    "\n",
    "# score_train = log_loss(y_train, y_pred_train_grd_lm)\n",
    "# score_test = log_loss(y_test, y_pred_test_grd_lm)\n",
    "# np.round(score_train, 4), np.round(score_test, 4)"
   ]
  },
  {
   "cell_type": "markdown",
   "metadata": {},
   "source": [
    "- 人工特征 + GBDT特征 + LR\n",
    "    - pre1_lr: \n",
    "        - 19+800 vars\n",
    "        - `(random_state=0, solver='saga', penalty='l1', max_iter=1000)`\n",
    "        - `(random_state=0, solver='saga', penalty='l1', max_iter=2000)`\n",
    "        - didn't converge in 1000/2000, (0.5386, 0.5355)\n",
    "    - pre3_gbdt: \n",
    "        - 6+800 vars \n",
    "        - `(random_state=0, solver='saga', penalty='l1', max_iter=1000)`\n",
    "        - `(random_state=0, solver='sag', penalty='l2', max_iter=1000)`\n",
    "        - (0.5609, 0.5565)"
   ]
  },
  {
   "cell_type": "code",
   "execution_count": 22,
   "metadata": {},
   "outputs": [],
   "source": [
    "# 人工特征, continuing from `pre1_lr`\n",
    "# X_train, X_test, y_train, y_test = pre1_lr(df_train_100, df_test_25)\n",
    "# select one-hot encodded features with appearance more than 30%\n",
    "\n",
    "# GBDT特征: X_train_part2, X_test_part2\n",
    "\n",
    "# combined\n",
    "X_train_new = scipy.sparse.hstack((X_train, X_train_part2))\n",
    "X_test_new = scipy.sparse.hstack((X_test, X_test_part2))"
   ]
  },
  {
   "cell_type": "code",
   "execution_count": 23,
   "metadata": {},
   "outputs": [
    {
     "name": "stderr",
     "output_type": "stream",
     "text": [
      "/opt/conda/lib/python3.7/site-packages/sklearn/linear_model/_sag.py:329: ConvergenceWarning: The max_iter was reached which means the coef_ did not converge\n",
      "  \"the coef_ did not converge\", ConvergenceWarning)\n"
     ]
    },
    {
     "data": {
      "text/plain": [
       "(0.5386, 0.5355)"
      ]
     },
     "execution_count": 23,
     "metadata": {},
     "output_type": "execute_result"
    }
   ],
   "source": [
    "# feed into LR\n",
    "grd_lm = LogisticRegression(random_state=0, solver='saga', \n",
    "                            penalty='l1', max_iter=2000)\n",
    "grd_lm.fit(X_train_new, y_train)\n",
    "\n",
    "y_pred_train_grd_lm = grd_lm.predict_proba(X_train_new)[:, 1]\n",
    "y_pred_test_grd_lm = grd_lm.predict_proba(X_test_new)[:, 1]\n",
    "\n",
    "score_train = log_loss(y_train, y_pred_train_grd_lm)\n",
    "score_test = log_loss(y_test, y_pred_test_grd_lm)\n",
    "np.round(score_train, 4), np.round(score_test, 4)"
   ]
  },
  {
   "cell_type": "code",
   "execution_count": 24,
   "metadata": {},
   "outputs": [
    {
     "name": "stderr",
     "output_type": "stream",
     "text": [
      "/opt/conda/lib/python3.7/site-packages/sklearn/preprocessing/_discretization.py:222: UserWarning: Bins whose width are too small (i.e., <= 1e-8) in feature 0 are removed. Consider decreasing the number of bins.\n",
      "  'decreasing the number of bins.' % jj)\n",
      "/opt/conda/lib/python3.7/site-packages/sklearn/preprocessing/_discretization.py:222: UserWarning: Bins whose width are too small (i.e., <= 1e-8) in feature 1 are removed. Consider decreasing the number of bins.\n",
      "  'decreasing the number of bins.' % jj)\n",
      "/opt/conda/lib/python3.7/site-packages/sklearn/preprocessing/_discretization.py:222: UserWarning: Bins whose width are too small (i.e., <= 1e-8) in feature 2 are removed. Consider decreasing the number of bins.\n",
      "  'decreasing the number of bins.' % jj)\n",
      "/opt/conda/lib/python3.7/site-packages/sklearn/preprocessing/_discretization.py:222: UserWarning: Bins whose width are too small (i.e., <= 1e-8) in feature 3 are removed. Consider decreasing the number of bins.\n",
      "  'decreasing the number of bins.' % jj)\n",
      "/opt/conda/lib/python3.7/site-packages/sklearn/preprocessing/_discretization.py:222: UserWarning: Bins whose width are too small (i.e., <= 1e-8) in feature 5 are removed. Consider decreasing the number of bins.\n",
      "  'decreasing the number of bins.' % jj)\n",
      "/opt/conda/lib/python3.7/site-packages/sklearn/preprocessing/_discretization.py:222: UserWarning: Bins whose width are too small (i.e., <= 1e-8) in feature 6 are removed. Consider decreasing the number of bins.\n",
      "  'decreasing the number of bins.' % jj)\n",
      "/opt/conda/lib/python3.7/site-packages/sklearn/preprocessing/_discretization.py:222: UserWarning: Bins whose width are too small (i.e., <= 1e-8) in feature 9 are removed. Consider decreasing the number of bins.\n",
      "  'decreasing the number of bins.' % jj)\n",
      "/opt/conda/lib/python3.7/site-packages/sklearn/preprocessing/_discretization.py:222: UserWarning: Bins whose width are too small (i.e., <= 1e-8) in feature 10 are removed. Consider decreasing the number of bins.\n",
      "  'decreasing the number of bins.' % jj)\n",
      "/opt/conda/lib/python3.7/site-packages/sklearn/preprocessing/_discretization.py:222: UserWarning: Bins whose width are too small (i.e., <= 1e-8) in feature 11 are removed. Consider decreasing the number of bins.\n",
      "  'decreasing the number of bins.' % jj)\n",
      "/opt/conda/lib/python3.7/site-packages/sklearn/preprocessing/_discretization.py:222: UserWarning: Bins whose width are too small (i.e., <= 1e-8) in feature 12 are removed. Consider decreasing the number of bins.\n",
      "  'decreasing the number of bins.' % jj)\n"
     ]
    }
   ],
   "source": [
    "# 人工特征, continuing from `pre3_gbdt`\n",
    "# select one-hot encodded features with appearance more than 50%\n",
    "X_train, X_test, y_train, y_test = pre3_gbdt(df_train_100, df_test_25)\n",
    "\n",
    "# GBDT特征: X_train_part2, X_test_part2\n",
    "grd = GradientBoostingClassifier() # n_estimators=100, max_depth=3\n",
    "grd_enc = OneHotEncoder()\n",
    "grd.fit(X_train, y_train)\n",
    "grd_enc.fit(grd.apply(X_train)[:, :, 0]) # ohe on indexes\n",
    "X_train_part2 = grd_enc.transform(grd.apply(X_train)[:, :, 0])\n",
    "X_test_part2 = grd_enc.transform(grd.apply(X_test)[:, :, 0])\n",
    "\n",
    "# combined\n",
    "X_train_new = scipy.sparse.hstack((X_train, X_train_part2))\n",
    "X_test_new = scipy.sparse.hstack((X_test, X_test_part2))"
   ]
  },
  {
   "cell_type": "code",
   "execution_count": 25,
   "metadata": {},
   "outputs": [
    {
     "data": {
      "text/plain": [
       "(0.5609, 0.5565)"
      ]
     },
     "execution_count": 25,
     "metadata": {},
     "output_type": "execute_result"
    }
   ],
   "source": [
    "# feed into LR\n",
    "grd_lm = LogisticRegression(random_state=0, solver='sag', \n",
    "                            penalty='l2', max_iter=1000)\n",
    "grd_lm.fit(X_train_new, y_train)\n",
    "\n",
    "y_pred_train_grd_lm = grd_lm.predict_proba(X_train_new)[:, 1]\n",
    "y_pred_test_grd_lm = grd_lm.predict_proba(X_test_new)[:, 1]\n",
    "\n",
    "score_train = log_loss(y_train, y_pred_train_grd_lm)\n",
    "score_test = log_loss(y_test, y_pred_test_grd_lm)\n",
    "np.round(score_train, 4), np.round(score_test, 4)"
   ]
  },
  {
   "cell_type": "code",
   "execution_count": null,
   "metadata": {},
   "outputs": [],
   "source": []
  }
 ],
 "metadata": {
  "kernelspec": {
   "display_name": "Python 3",
   "language": "python",
   "name": "python3"
  },
  "language_info": {
   "codemirror_mode": {
    "name": "ipython",
    "version": 3
   },
   "file_extension": ".py",
   "mimetype": "text/x-python",
   "name": "python",
   "nbconvert_exporter": "python",
   "pygments_lexer": "ipython3",
   "version": "3.7.9"
  }
 },
 "nbformat": 4,
 "nbformat_minor": 4
}
