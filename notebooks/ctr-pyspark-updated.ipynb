{
 "cells": [
  {
   "cell_type": "code",
   "execution_count": 1,
   "metadata": {
    "_cell_guid": "b1076dfc-b9ad-4769-8c92-a6c4dae69d19",
    "_uuid": "8f2839f25d086af736a60e9eeb907d3b93b6e0e5",
    "execution": {
     "iopub.execute_input": "2021-02-28T07:50:00.208416Z",
     "iopub.status.busy": "2021-02-28T07:50:00.207719Z",
     "iopub.status.idle": "2021-02-28T07:50:00.228227Z",
     "shell.execute_reply": "2021-02-28T07:50:00.228751Z"
    },
    "papermill": {
     "duration": 0.036498,
     "end_time": "2021-02-28T07:50:00.229062",
     "exception": false,
     "start_time": "2021-02-28T07:50:00.192564",
     "status": "completed"
    },
    "tags": []
   },
   "outputs": [
    {
     "name": "stdout",
     "output_type": "stream",
     "text": [
      "/kaggle/input/criteo-dataset/dac/test.txt\n",
      "/kaggle/input/criteo-dataset/dac/readme.txt\n",
      "/kaggle/input/criteo-dataset/dac/train.txt\n"
     ]
    }
   ],
   "source": [
    "# This Python 3 environment comes with many helpful analytics libraries installed\n",
    "# It is defined by the kaggle/python Docker image: https://github.com/kaggle/docker-python\n",
    "# For example, here's several helpful packages to load\n",
    "\n",
    "import numpy as np # linear algebra\n",
    "import pandas as pd # data processing, CSV file I/O (e.g. pd.read_csv)\n",
    "\n",
    "# Input data files are available in the read-only \"../input/\" directory\n",
    "# For example, running this (by clicking run or pressing Shift+Enter) will list all files under the input directory\n",
    "\n",
    "import os\n",
    "for dirname, _, filenames in os.walk('/kaggle/input'):\n",
    "    for filename in filenames:\n",
    "        print(os.path.join(dirname, filename))\n",
    "\n",
    "# You can write up to 20GB to the current directory (/kaggle/working/) that gets preserved as output when you create a version using \"Save & Run All\" \n",
    "# You can also write temporary files to /kaggle/temp/, but they won't be saved outside of the current session"
   ]
  },
  {
   "cell_type": "code",
   "execution_count": 2,
   "metadata": {
    "execution": {
     "iopub.execute_input": "2021-02-28T07:50:00.255467Z",
     "iopub.status.busy": "2021-02-28T07:50:00.254826Z",
     "iopub.status.idle": "2021-02-28T07:50:38.311088Z",
     "shell.execute_reply": "2021-02-28T07:50:38.310106Z"
    },
    "papermill": {
     "duration": 38.070216,
     "end_time": "2021-02-28T07:50:38.311233",
     "exception": false,
     "start_time": "2021-02-28T07:50:00.241017",
     "status": "completed"
    },
    "tags": []
   },
   "outputs": [
    {
     "name": "stdout",
     "output_type": "stream",
     "text": [
      "Collecting pyspark\r\n",
      "  Downloading pyspark-3.0.2.tar.gz (204.8 MB)\r\n",
      "\u001b[K     |████████████████████████████████| 204.8 MB 49 kB/s \r\n",
      "\u001b[?25hCollecting py4j==0.10.9\r\n",
      "  Downloading py4j-0.10.9-py2.py3-none-any.whl (198 kB)\r\n",
      "\u001b[K     |████████████████████████████████| 198 kB 43.4 MB/s \r\n",
      "\u001b[?25hBuilding wheels for collected packages: pyspark\r\n",
      "  Building wheel for pyspark (setup.py) ... \u001b[?25l-\b \b\\\b \b|\b \b/\b \b-\b \b\\\b \b|\b \b/\b \b-\b \b\\\b \b|\b \b/\b \b-\b \b\\\b \b|\b \b/\b \b-\b \b\\\b \b|\b \b/\b \b-\b \b\\\b \b|\b \b/\b \b-\b \b\\\b \b|\b \b/\b \b-\b \b\\\b \b|\b \b/\b \b-\b \b\\\b \b|\b \b/\b \b-\b \b\\\b \b|\b \b/\b \b-\b \b\\\b \b|\b \b/\b \b-\b \b\\\b \b|\b \b/\b \b-\b \b\\\b \b|\b \b/\b \b-\b \bdone\r\n",
      "\u001b[?25h  Created wheel for pyspark: filename=pyspark-3.0.2-py2.py3-none-any.whl size=205186687 sha256=ece44ae443d80bbd060bad9baa018d87954b5d5f6b730b6397beb5ad098c45dd\r\n",
      "  Stored in directory: /root/.cache/pip/wheels/9a/39/f6/970565f38054a830e9a8593f388b36e14d75dba6c6fdafc1ec\r\n",
      "Successfully built pyspark\r\n",
      "Installing collected packages: py4j, pyspark\r\n",
      "Successfully installed py4j-0.10.9 pyspark-3.0.2\r\n"
     ]
    }
   ],
   "source": [
    "!pip install pyspark"
   ]
  },
  {
   "cell_type": "code",
   "execution_count": 3,
   "metadata": {
    "execution": {
     "iopub.execute_input": "2021-02-28T07:50:38.551754Z",
     "iopub.status.busy": "2021-02-28T07:50:38.550687Z",
     "iopub.status.idle": "2021-02-28T07:50:39.206366Z",
     "shell.execute_reply": "2021-02-28T07:50:39.204950Z"
    },
    "papermill": {
     "duration": 0.778724,
     "end_time": "2021-02-28T07:50:39.206541",
     "exception": false,
     "start_time": "2021-02-28T07:50:38.427817",
     "status": "completed"
    },
    "tags": []
   },
   "outputs": [],
   "source": [
    "import dask.dataframe as dd\n",
    "import gc\n",
    "\n",
    "from pyspark import SparkContext\n",
    "from pyspark.sql import SparkSession\n",
    "import pyspark.sql.types as T\n",
    "import pyspark.sql.functions as F\n",
    "\n",
    "import time"
   ]
  },
  {
   "cell_type": "code",
   "execution_count": 4,
   "metadata": {
    "execution": {
     "iopub.execute_input": "2021-02-28T07:50:39.439915Z",
     "iopub.status.busy": "2021-02-28T07:50:39.439184Z",
     "iopub.status.idle": "2021-02-28T07:50:39.442160Z",
     "shell.execute_reply": "2021-02-28T07:50:39.441566Z"
    },
    "papermill": {
     "duration": 0.120918,
     "end_time": "2021-02-28T07:50:39.442291",
     "exception": false,
     "start_time": "2021-02-28T07:50:39.321373",
     "status": "completed"
    },
    "tags": []
   },
   "outputs": [],
   "source": [
    "#gc.collect()"
   ]
  },
  {
   "cell_type": "code",
   "execution_count": 5,
   "metadata": {
    "execution": {
     "iopub.execute_input": "2021-02-28T07:50:39.674867Z",
     "iopub.status.busy": "2021-02-28T07:50:39.674230Z",
     "iopub.status.idle": "2021-02-28T07:50:39.677092Z",
     "shell.execute_reply": "2021-02-28T07:50:39.677694Z"
    },
    "papermill": {
     "duration": 0.121242,
     "end_time": "2021-02-28T07:50:39.677872",
     "exception": false,
     "start_time": "2021-02-28T07:50:39.556630",
     "status": "completed"
    },
    "tags": []
   },
   "outputs": [],
   "source": [
    "# sc = SparkContext.getOrCreate()\n",
    "# sc.version, sc.defaultParallelism, sc.defaultMinPartitions"
   ]
  },
  {
   "cell_type": "code",
   "execution_count": 6,
   "metadata": {
    "execution": {
     "iopub.execute_input": "2021-02-28T07:50:39.916397Z",
     "iopub.status.busy": "2021-02-28T07:50:39.915742Z",
     "iopub.status.idle": "2021-02-28T07:52:21.009793Z",
     "shell.execute_reply": "2021-02-28T07:52:21.010331Z"
    },
    "papermill": {
     "duration": 101.215937,
     "end_time": "2021-02-28T07:52:21.010575",
     "exception": false,
     "start_time": "2021-02-28T07:50:39.794638",
     "status": "completed"
    },
    "tags": []
   },
   "outputs": [
    {
     "name": "stdout",
     "output_type": "stream",
     "text": [
      "CPU times: user 44.8 ms, sys: 25 ms, total: 69.9 ms\n",
      "Wall time: 1min 40s\n"
     ]
    }
   ],
   "source": [
    "%%time\n",
    "\n",
    "# sc = SparkContext.getOrCreate()\n",
    "\n",
    "spark = (\n",
    "    SparkSession.builder\n",
    "    .appName(\"ctr_data\") # .config(\"spark.executor.cores\", 4)\n",
    "    .getOrCreate()\n",
    ")\n",
    "\n",
    "df_original_test = spark.read.csv(\"/kaggle/input/criteo-dataset/dac/test.txt\",\n",
    "                              inferSchema=True)\n",
    "df_original_train = spark.read.csv(\"/kaggle/input/criteo-dataset/dac/train.txt\",\n",
    "                              inferSchema=True)\n",
    "\n",
    "#df_original_test.printSchema()"
   ]
  },
  {
   "cell_type": "code",
   "execution_count": 7,
   "metadata": {
    "execution": {
     "iopub.execute_input": "2021-02-28T07:52:21.255002Z",
     "iopub.status.busy": "2021-02-28T07:52:21.254370Z",
     "iopub.status.idle": "2021-02-28T07:52:21.258267Z",
     "shell.execute_reply": "2021-02-28T07:52:21.257621Z"
    },
    "papermill": {
     "duration": 0.133384,
     "end_time": "2021-02-28T07:52:21.258427",
     "exception": false,
     "start_time": "2021-02-28T07:52:21.125043",
     "status": "completed"
    },
    "tags": []
   },
   "outputs": [],
   "source": [
    "# helper functions\n",
    "\n",
    "def split_col_testing_I(i, df_type):\n",
    "    '''\n",
    "    Function for extracting numerical features (now of str type) \n",
    "    from original df (one cloumn only).\n",
    "    \n",
    "    i: int, numerical index for column\n",
    "    df_type: dataframe, either df_original_test or df_original_train\n",
    "    '''\n",
    "    \n",
    "    splitted = F.split(df_type['_c0'], '\\t')\n",
    "    \n",
    "    if df_type == df_original_test:\n",
    "        result = splitted.getItem(i).alias('I'+str(i+1))\n",
    "    else:\n",
    "        if i == 0:\n",
    "            result = splitted.getItem(i).alias('Label')\n",
    "        else:\n",
    "            result = splitted.getItem(i).alias('I'+str(i))\n",
    "    \n",
    "    return result\n",
    "\n",
    "def split_col_testing_C(i, df_type):\n",
    "    '''\n",
    "    Function for extracting categorical features (str type) \n",
    "    from original df (one cloumn only).\n",
    "    \n",
    "    i: int, numerical index for column\n",
    "    df_type: dataframe, either df_original_test or df_original_train\n",
    "    '''\n",
    "    \n",
    "    splitted = F.split(df_type['_c0'], '\\t')\n",
    "    \n",
    "    if df_type == df_original_test:\n",
    "        result = splitted.getItem(i).alias('C'+str(i-12))\n",
    "    else:\n",
    "        result = splitted.getItem(i).alias('C'+str(i-13))\n",
    "    \n",
    "    return result\n",
    "\n",
    "def empty_str_to_null(x):\n",
    "    '''\n",
    "    Function for replacing empty strings in a column with null values.\n",
    "    '''\n",
    "    return F.when(F.col(x) != \"\", F.col(x)).otherwise(None)"
   ]
  },
  {
   "cell_type": "code",
   "execution_count": 8,
   "metadata": {
    "execution": {
     "iopub.execute_input": "2021-02-28T07:52:21.502465Z",
     "iopub.status.busy": "2021-02-28T07:52:21.501494Z",
     "iopub.status.idle": "2021-02-28T07:52:22.671183Z",
     "shell.execute_reply": "2021-02-28T07:52:22.671916Z"
    },
    "papermill": {
     "duration": 1.29632,
     "end_time": "2021-02-28T07:52:22.672185",
     "exception": false,
     "start_time": "2021-02-28T07:52:21.375865",
     "status": "completed"
    },
    "tags": []
   },
   "outputs": [
    {
     "name": "stdout",
     "output_type": "stream",
     "text": [
      "CPU times: user 101 ms, sys: 33.1 ms, total: 134 ms\n",
      "Wall time: 1.16 s\n"
     ]
    }
   ],
   "source": [
    "%%time\n",
    "\n",
    "# change into dataframe with all feature columns (all of str type)\n",
    "exprs1 = [split_col_testing_I(i, df_original_test) for i in range(13)] \\\n",
    "+ [split_col_testing_C(i, df_original_test) for i in range(13, 39)]\n",
    "\n",
    "df_testing_temp1 = df_original_test.select(*exprs1)\n",
    "\n",
    "\n",
    "\n",
    "# Convert into correct types and fill missing data with null\n",
    "# numerical features: to int\n",
    "query_change_test_col = [\"cast(I\"+str(i)+\" as int) I\"+str(i) for i in range(1, 14)] \\\n",
    "+ ['C'+str(i) for i in range(1,27)]\n",
    "\n",
    "df_testing_temp2 = df_testing_temp1.selectExpr(\n",
    "    query_change_test_col\n",
    ")\n",
    "\n",
    "# categorical features: replace '' with null\n",
    "to_convert = ['C'+str(i) for i in range(1,27)]\n",
    "exprs2 = [empty_str_to_null(x).alias(x) \n",
    "         if x in to_convert else x\n",
    "         for x in df_testing_temp2.columns]\n",
    "\n",
    "df_testing = df_testing_temp2.select(*exprs2)"
   ]
  },
  {
   "cell_type": "code",
   "execution_count": 9,
   "metadata": {
    "execution": {
     "iopub.execute_input": "2021-02-28T07:52:23.029214Z",
     "iopub.status.busy": "2021-02-28T07:52:23.028254Z",
     "iopub.status.idle": "2021-02-28T07:52:26.615641Z",
     "shell.execute_reply": "2021-02-28T07:52:26.614983Z"
    },
    "papermill": {
     "duration": 3.750571,
     "end_time": "2021-02-28T07:52:26.615790",
     "exception": false,
     "start_time": "2021-02-28T07:52:22.865219",
     "status": "completed"
    },
    "tags": []
   },
   "outputs": [
    {
     "data": {
      "text/plain": [
       "6042135"
      ]
     },
     "execution_count": 9,
     "metadata": {},
     "output_type": "execute_result"
    }
   ],
   "source": [
    "df_testing.count() # IDs start at 60000000 and finish at 66042134"
   ]
  },
  {
   "cell_type": "code",
   "execution_count": 10,
   "metadata": {
    "execution": {
     "iopub.execute_input": "2021-02-28T07:52:26.866095Z",
     "iopub.status.busy": "2021-02-28T07:52:26.865470Z",
     "iopub.status.idle": "2021-02-28T07:52:27.656675Z",
     "shell.execute_reply": "2021-02-28T07:52:27.655021Z"
    },
    "papermill": {
     "duration": 0.911044,
     "end_time": "2021-02-28T07:52:27.657002",
     "exception": false,
     "start_time": "2021-02-28T07:52:26.745958",
     "status": "completed"
    },
    "tags": []
   },
   "outputs": [
    {
     "name": "stdout",
     "output_type": "stream",
     "text": [
      "+----+---+---+---+----+---+---+---+---+----+---+----+---+--------+--------+--------+--------+--------+--------+--------+--------+--------+--------+--------+--------+--------+--------+--------+--------+--------+--------+--------+--------+--------+----+--------+--------+--------+--------+\n",
      "|  I1| I2| I3| I4|  I5| I6| I7| I8| I9| I10|I11| I12|I13|      C1|      C2|      C3|      C4|      C5|      C6|      C7|      C8|      C9|     C10|     C11|     C12|     C13|     C14|     C15|     C16|     C17|     C18|     C19|     C20|     C21| C22|     C23|     C24|     C25|     C26|\n",
      "+----+---+---+---+----+---+---+---+---+----+---+----+---+--------+--------+--------+--------+--------+--------+--------+--------+--------+--------+--------+--------+--------+--------+--------+--------+--------+--------+--------+--------+--------+----+--------+--------+--------+--------+\n",
      "|null| 29| 50|  5|7260|437|  1|  4| 14|null|  1|   0|  6|5a9ed9b0|a0e12995|a1e14474|08a40877|25c83c98|    null|964d1fdd|5b392875|a73ee510|de89c3d2|59cd5ae7|8d98db20|8b216f7b|1adce6ef|78c64a1d|3ecdadf7|3486227d|1616f155|21ddcdc9|5840adea|2c277e62|null|423fab69|54c91918|9b3e8820|e75c9ae9|\n",
      "|  27| 17| 45| 28|   2| 28| 27| 29| 28|   1|  1|null| 23|68fd1e64|960c983b|9fbfbfd5|38c11726|25c83c98|7e0ccccf|fe06fd10|062b5529|a73ee510|ca53fc84|67360210|895d8bbb|4f8e2224|f862f261|b4cc2435|4c0041e5|e5ba7672|b4abdd09|21ddcdc9|5840adea|36a7ab86|null|32c7478e|85e4d73f|010f6491|ee63dd9b|\n",
      "|   1|  1| 19|  7|   1|  3|  1|  7|  7|   1|  1|null|  2|09ca0b81|8947f767|a87e61f7|c4ba2a67|25c83c98|7e0ccccf|ce6020cc|062b5529|a73ee510|b04d3cfe|70dcd184|899eb56b|aca22cf9|b28479f6|a473257f|88f592e4|d4bb7bd8|bd17c3da|1d04f4a4|a458ea53|82bdc0bb|null|32c7478e|5bdcd9c4|010f6491|cca57dcc|\n",
      "+----+---+---+---+----+---+---+---+---+----+---+----+---+--------+--------+--------+--------+--------+--------+--------+--------+--------+--------+--------+--------+--------+--------+--------+--------+--------+--------+--------+--------+--------+----+--------+--------+--------+--------+\n",
      "only showing top 3 rows\n",
      "\n"
     ]
    }
   ],
   "source": [
    "df_testing.show(3)"
   ]
  },
  {
   "cell_type": "code",
   "execution_count": 11,
   "metadata": {
    "execution": {
     "iopub.execute_input": "2021-02-28T07:52:27.960489Z",
     "iopub.status.busy": "2021-02-28T07:52:27.959558Z",
     "iopub.status.idle": "2021-02-28T07:52:27.965515Z",
     "shell.execute_reply": "2021-02-28T07:52:27.964746Z"
    },
    "papermill": {
     "duration": 0.136002,
     "end_time": "2021-02-28T07:52:27.965729",
     "exception": false,
     "start_time": "2021-02-28T07:52:27.829727",
     "status": "completed"
    },
    "tags": []
   },
   "outputs": [
    {
     "name": "stdout",
     "output_type": "stream",
     "text": [
      "root\n",
      " |-- I1: integer (nullable = true)\n",
      " |-- I2: integer (nullable = true)\n",
      " |-- I3: integer (nullable = true)\n",
      " |-- I4: integer (nullable = true)\n",
      " |-- I5: integer (nullable = true)\n",
      " |-- I6: integer (nullable = true)\n",
      " |-- I7: integer (nullable = true)\n",
      " |-- I8: integer (nullable = true)\n",
      " |-- I9: integer (nullable = true)\n",
      " |-- I10: integer (nullable = true)\n",
      " |-- I11: integer (nullable = true)\n",
      " |-- I12: integer (nullable = true)\n",
      " |-- I13: integer (nullable = true)\n",
      " |-- C1: string (nullable = true)\n",
      " |-- C2: string (nullable = true)\n",
      " |-- C3: string (nullable = true)\n",
      " |-- C4: string (nullable = true)\n",
      " |-- C5: string (nullable = true)\n",
      " |-- C6: string (nullable = true)\n",
      " |-- C7: string (nullable = true)\n",
      " |-- C8: string (nullable = true)\n",
      " |-- C9: string (nullable = true)\n",
      " |-- C10: string (nullable = true)\n",
      " |-- C11: string (nullable = true)\n",
      " |-- C12: string (nullable = true)\n",
      " |-- C13: string (nullable = true)\n",
      " |-- C14: string (nullable = true)\n",
      " |-- C15: string (nullable = true)\n",
      " |-- C16: string (nullable = true)\n",
      " |-- C17: string (nullable = true)\n",
      " |-- C18: string (nullable = true)\n",
      " |-- C19: string (nullable = true)\n",
      " |-- C20: string (nullable = true)\n",
      " |-- C21: string (nullable = true)\n",
      " |-- C22: string (nullable = true)\n",
      " |-- C23: string (nullable = true)\n",
      " |-- C24: string (nullable = true)\n",
      " |-- C25: string (nullable = true)\n",
      " |-- C26: string (nullable = true)\n",
      "\n"
     ]
    }
   ],
   "source": [
    "df_testing.printSchema()"
   ]
  },
  {
   "cell_type": "code",
   "execution_count": 12,
   "metadata": {
    "execution": {
     "iopub.execute_input": "2021-02-28T07:52:28.207414Z",
     "iopub.status.busy": "2021-02-28T07:52:28.206342Z",
     "iopub.status.idle": "2021-02-28T07:52:28.806580Z",
     "shell.execute_reply": "2021-02-28T07:52:28.805392Z"
    },
    "papermill": {
     "duration": 0.722258,
     "end_time": "2021-02-28T07:52:28.806814",
     "exception": false,
     "start_time": "2021-02-28T07:52:28.084556",
     "status": "completed"
    },
    "tags": []
   },
   "outputs": [
    {
     "name": "stdout",
     "output_type": "stream",
     "text": [
      "CPU times: user 86 ms, sys: 31.4 ms, total: 117 ms\n",
      "Wall time: 590 ms\n"
     ]
    }
   ],
   "source": [
    "%%time\n",
    "\n",
    "# change into dataframe with all feature columns (all of str type)\n",
    "exprs3 = [split_col_testing_I(0, df_original_train)] \\\n",
    "+ [split_col_testing_I(i, df_original_train) for i in range(1, 14)] \\\n",
    "+ [split_col_testing_C(i, df_original_train) for i in range(14, 40)]\n",
    "\n",
    "df_training_temp1 = df_original_train.select(*exprs3)\n",
    "\n",
    "\n",
    "# Convert into correct types and fill missing data with null\n",
    "# numerical features: to int\n",
    "query_change_train_col = [\"cast(Label as int) Label\"] \\\n",
    "+ [\"cast(I\"+str(i)+\" as int) I\"+str(i) for i in range(1, 14)] \\\n",
    "+ ['C'+str(i) for i in range(1,27)]\n",
    "\n",
    "df_training_temp2 = df_training_temp1.selectExpr(\n",
    "    query_change_train_col\n",
    ")\n",
    "\n",
    "# categorical features: replace '' with null\n",
    "to_convert = ['C'+str(i) for i in range(1,27)]\n",
    "exprs4 = [empty_str_to_null(x).alias(x) \n",
    "         if x in to_convert else x\n",
    "         for x in df_training_temp2.columns]\n",
    "\n",
    "df_training = df_training_temp2.select(*exprs4)"
   ]
  },
  {
   "cell_type": "code",
   "execution_count": 13,
   "metadata": {
    "execution": {
     "iopub.execute_input": "2021-02-28T07:52:29.049479Z",
     "iopub.status.busy": "2021-02-28T07:52:29.048778Z",
     "iopub.status.idle": "2021-02-28T07:52:29.054272Z",
     "shell.execute_reply": "2021-02-28T07:52:29.053664Z"
    },
    "papermill": {
     "duration": 0.126814,
     "end_time": "2021-02-28T07:52:29.054455",
     "exception": false,
     "start_time": "2021-02-28T07:52:28.927641",
     "status": "completed"
    },
    "tags": []
   },
   "outputs": [
    {
     "name": "stdout",
     "output_type": "stream",
     "text": [
      "root\n",
      " |-- Label: integer (nullable = true)\n",
      " |-- I1: integer (nullable = true)\n",
      " |-- I2: integer (nullable = true)\n",
      " |-- I3: integer (nullable = true)\n",
      " |-- I4: integer (nullable = true)\n",
      " |-- I5: integer (nullable = true)\n",
      " |-- I6: integer (nullable = true)\n",
      " |-- I7: integer (nullable = true)\n",
      " |-- I8: integer (nullable = true)\n",
      " |-- I9: integer (nullable = true)\n",
      " |-- I10: integer (nullable = true)\n",
      " |-- I11: integer (nullable = true)\n",
      " |-- I12: integer (nullable = true)\n",
      " |-- I13: integer (nullable = true)\n",
      " |-- C1: string (nullable = true)\n",
      " |-- C2: string (nullable = true)\n",
      " |-- C3: string (nullable = true)\n",
      " |-- C4: string (nullable = true)\n",
      " |-- C5: string (nullable = true)\n",
      " |-- C6: string (nullable = true)\n",
      " |-- C7: string (nullable = true)\n",
      " |-- C8: string (nullable = true)\n",
      " |-- C9: string (nullable = true)\n",
      " |-- C10: string (nullable = true)\n",
      " |-- C11: string (nullable = true)\n",
      " |-- C12: string (nullable = true)\n",
      " |-- C13: string (nullable = true)\n",
      " |-- C14: string (nullable = true)\n",
      " |-- C15: string (nullable = true)\n",
      " |-- C16: string (nullable = true)\n",
      " |-- C17: string (nullable = true)\n",
      " |-- C18: string (nullable = true)\n",
      " |-- C19: string (nullable = true)\n",
      " |-- C20: string (nullable = true)\n",
      " |-- C21: string (nullable = true)\n",
      " |-- C22: string (nullable = true)\n",
      " |-- C23: string (nullable = true)\n",
      " |-- C24: string (nullable = true)\n",
      " |-- C25: string (nullable = true)\n",
      " |-- C26: string (nullable = true)\n",
      "\n"
     ]
    }
   ],
   "source": [
    "df_training.printSchema()"
   ]
  },
  {
   "cell_type": "code",
   "execution_count": 14,
   "metadata": {
    "execution": {
     "iopub.execute_input": "2021-02-28T07:52:29.296956Z",
     "iopub.status.busy": "2021-02-28T07:52:29.295894Z",
     "iopub.status.idle": "2021-02-28T07:52:29.852403Z",
     "shell.execute_reply": "2021-02-28T07:52:29.850961Z"
    },
    "papermill": {
     "duration": 0.679686,
     "end_time": "2021-02-28T07:52:29.852612",
     "exception": false,
     "start_time": "2021-02-28T07:52:29.172926",
     "status": "completed"
    },
    "tags": []
   },
   "outputs": [
    {
     "name": "stdout",
     "output_type": "stream",
     "text": [
      "+-----+----+---+----+----+----+----+---+---+---+----+---+----+----+--------+--------+--------+--------+--------+--------+--------+--------+--------+--------+--------+--------+--------+--------+--------+--------+--------+--------+--------+--------+--------+--------+--------+--------+--------+--------+\n",
      "|Label|  I1| I2|  I3|  I4|  I5|  I6| I7| I8| I9| I10|I11| I12| I13|      C1|      C2|      C3|      C4|      C5|      C6|      C7|      C8|      C9|     C10|     C11|     C12|     C13|     C14|     C15|     C16|     C17|     C18|     C19|     C20|     C21|     C22|     C23|     C24|     C25|     C26|\n",
      "+-----+----+---+----+----+----+----+---+---+---+----+---+----+----+--------+--------+--------+--------+--------+--------+--------+--------+--------+--------+--------+--------+--------+--------+--------+--------+--------+--------+--------+--------+--------+--------+--------+--------+--------+--------+\n",
      "|    0|   1|  1|   5|   0|1382|   4| 15|  2|181|   1|  2|null|   2|68fd1e64|80e26c9b|fb936136|7b4723c4|25c83c98|7e0ccccf|de7995b8|1f89b562|a73ee510|a8cd5504|b2cb9c98|37c9c164|2824a5f6|1adce6ef|8ba8b39a|891b62e7|e5ba7672|f54016b9|21ddcdc9|b1252a9d|07b5194c|    null|3a171ecb|c5c50484|e8b83407|9727dd16|\n",
      "|    0|   2|  0|  44|   1| 102|   8|  2|  2|  4|   1|  1|null|   4|68fd1e64|f0cf0024|6f67f7e5|41274cd7|25c83c98|fe6b92e5|922afcc0|0b153874|a73ee510|2b53e5fb|4f1b46f3|623049e6|d7020589|b28479f6|e6c5b5cd|c92f3b61|07c540c4|b04e4670|21ddcdc9|5840adea|60f6221e|    null|3a171ecb|43f13e8b|e8b83407|731c3655|\n",
      "|    0|   2|  0|   1|  14| 767|  89|  4|  2|245|   1|  3|   3|  45|287e684f|0a519c5c|02cf9876|c18be181|25c83c98|7e0ccccf|c78204a1|0b153874|a73ee510|3b08e48b|5f5e6091|8fe001f4|aa655a2f|07d13a8f|6dc710ed|36103458|8efede7f|3412118d|    null|    null|e587c466|ad3062eb|3a171ecb|3b183c5c|    null|    null|\n",
      "|    0|null|893|null|null|4392|null|  0|  0|  0|null|  0|null|null|68fd1e64|2c16a946|a9a87e68|2e17d6f6|25c83c98|fe6b92e5|2e8a689b|0b153874|a73ee510|efea433b|e51ddf94|a30567ca|3516f6e6|07d13a8f|18231224|52b8680f|1e88c74f|74ef3502|    null|    null|6b3a5ca6|    null|3a171ecb|9117a34a|    null|    null|\n",
      "|    0|   3| -1|null|   0|   2|   0|  3|  0|  0|   1|  1|null|   0|8cf07265|ae46a29d|c81688bb|f922efad|25c83c98|13718bbd|ad9fa255|0b153874|a73ee510|5282c137|e5d8af57|66a76a26|f06c53ac|1adce6ef|8ff4b403|01adbab4|1e88c74f|26b3c7a7|    null|    null|21c9516a|    null|32c7478e|b34f3128|    null|    null|\n",
      "+-----+----+---+----+----+----+----+---+---+---+----+---+----+----+--------+--------+--------+--------+--------+--------+--------+--------+--------+--------+--------+--------+--------+--------+--------+--------+--------+--------+--------+--------+--------+--------+--------+--------+--------+--------+\n",
      "only showing top 5 rows\n",
      "\n"
     ]
    }
   ],
   "source": [
    "df_training.show(5)"
   ]
  },
  {
   "cell_type": "code",
   "execution_count": 15,
   "metadata": {
    "execution": {
     "iopub.execute_input": "2021-02-28T07:52:30.140731Z",
     "iopub.status.busy": "2021-02-28T07:52:30.139702Z",
     "iopub.status.idle": "2021-02-28T07:52:47.817257Z",
     "shell.execute_reply": "2021-02-28T07:52:47.816712Z"
    },
    "papermill": {
     "duration": 17.810655,
     "end_time": "2021-02-28T07:52:47.817439",
     "exception": false,
     "start_time": "2021-02-28T07:52:30.006784",
     "status": "completed"
    },
    "tags": []
   },
   "outputs": [
    {
     "data": {
      "text/plain": [
       "45840617"
      ]
     },
     "execution_count": 15,
     "metadata": {},
     "output_type": "execute_result"
    }
   ],
   "source": [
    "df_training.count()"
   ]
  },
  {
   "cell_type": "code",
   "execution_count": 16,
   "metadata": {
    "execution": {
     "iopub.execute_input": "2021-02-28T07:52:48.060790Z",
     "iopub.status.busy": "2021-02-28T07:52:48.060027Z",
     "iopub.status.idle": "2021-02-28T09:36:53.244550Z",
     "shell.execute_reply": "2021-02-28T09:36:53.243235Z"
    },
    "papermill": {
     "duration": 6245.307542,
     "end_time": "2021-02-28T09:36:53.244929",
     "exception": false,
     "start_time": "2021-02-28T07:52:47.937387",
     "status": "completed"
    },
    "tags": []
   },
   "outputs": [],
   "source": [
    "# save training and testing dataframes as parquet files\n",
    "df_testing.write.parquet('testing.parquet', mode='overwrite')\n",
    "df_training.write.parquet('training.parquet', mode='overwrite')"
   ]
  },
  {
   "cell_type": "code",
   "execution_count": null,
   "metadata": {
    "papermill": {
     "duration": 0.132128,
     "end_time": "2021-02-28T09:36:53.553767",
     "exception": false,
     "start_time": "2021-02-28T09:36:53.421639",
     "status": "completed"
    },
    "tags": []
   },
   "outputs": [],
   "source": []
  }
 ],
 "metadata": {
  "kernelspec": {
   "display_name": "Python 3",
   "language": "python",
   "name": "python3"
  },
  "language_info": {
   "codemirror_mode": {
    "name": "ipython",
    "version": 3
   },
   "file_extension": ".py",
   "mimetype": "text/x-python",
   "name": "python",
   "nbconvert_exporter": "python",
   "pygments_lexer": "ipython3",
   "version": "3.7.9"
  },
  "papermill": {
   "default_parameters": {},
   "duration": 6420.270718,
   "end_time": "2021-02-28T09:36:54.707030",
   "environment_variables": {},
   "exception": null,
   "input_path": "__notebook__.ipynb",
   "output_path": "__notebook__.ipynb",
   "parameters": {},
   "start_time": "2021-02-28T07:49:54.436312",
   "version": "2.2.2"
  }
 },
 "nbformat": 4,
 "nbformat_minor": 4
}
